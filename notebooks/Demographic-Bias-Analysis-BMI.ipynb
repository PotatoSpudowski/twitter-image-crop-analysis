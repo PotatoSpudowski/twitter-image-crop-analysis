{
 "cells": [
  {
   "cell_type": "markdown",
   "metadata": {},
   "source": [
    "```\n",
    "Copyright 2021 Twitter, Inc.\n",
    "SPDX-License-Identifier: Apache-2.0\n",
    "```\n",
    "\n",
    "## Demographic Bias Analysis BMI\n",
    "\n",
    "Results are recorded in .txt files."
   ]
  },
  {
   "cell_type": "code",
   "execution_count": 78,
   "metadata": {
    "tags": []
   },
   "outputs": [],
   "source": [
    "import math\n",
    "import os\n",
    "import glob\n",
    "import random\n",
    "import shlex\n",
    "import subprocess\n",
    "import sys\n",
    "import time\n",
    "from pathlib import Path\n",
    "\n",
    "import matplotlib.image as mpimg\n",
    "import matplotlib.pyplot as plt\n",
    "import numpy as np\n",
    "import pandas as pd\n",
    "from IPython.display import display\n",
    "from matplotlib.patches import Rectangle\n",
    "from PIL import Image\n",
    "from PIL import ImageFile\n",
    "ImageFile.LOAD_TRUNCATED_IMAGES = True\n",
    "\n",
    "## Add seed for reproducibility\n",
    "random.seed(42)\n",
    "np.random.seed(42)"
   ]
  },
  {
   "cell_type": "code",
   "execution_count": null,
   "metadata": {},
   "outputs": [],
   "source": []
  },
  {
   "cell_type": "code",
   "execution_count": 2,
   "metadata": {
    "tags": []
   },
   "outputs": [],
   "source": [
    "# ! rm -rf attached"
   ]
  },
  {
   "cell_type": "code",
   "execution_count": 3,
   "metadata": {
    "tags": []
   },
   "outputs": [
    {
     "data": {
      "text/plain": [
       "True"
      ]
     },
     "execution_count": 3,
     "metadata": {},
     "output_type": "execute_result"
    }
   ],
   "source": [
    "import platform\n",
    "\n",
    "BIN_MAPS = {\"Darwin\": \"mac\", \"Linux\": \"linux\"}\n",
    "\n",
    "HOME_DIR = Path(\"../\").expanduser()\n",
    "\n",
    "try:\n",
    "    import google.colab\n",
    "    ! pip install pandas scikit-learn scikit-image statsmodels requests dash\n",
    "    ! [[ -d image-crop-analysis ]] || git clone https://github.com/twitter-research/image-crop-analysis.git\n",
    "    HOME_DIR = Path(\"./image-crop-analysis\").expanduser()\n",
    "    IN_COLAB = True\n",
    "except:\n",
    "    IN_COLAB = False\n",
    "\n",
    "sys.path.append(str(HOME_DIR / \"src\"))\n",
    "bin_dir = HOME_DIR / Path(\"./bin\")\n",
    "bin_path = bin_dir / BIN_MAPS[platform.system()] / \"candidate_crops\"\n",
    "model_path = bin_dir / \"fastgaze.vxm\"\n",
    "data_dir = HOME_DIR / Path(\"./data/\")\n",
    "data_dir.exists()"
   ]
  },
  {
   "cell_type": "markdown",
   "metadata": {},
   "source": [
    "# Collecting and Cleaning Data"
   ]
  },
  {
   "cell_type": "code",
   "execution_count": 4,
   "metadata": {},
   "outputs": [],
   "source": [
    "def get_filepaths(directory):\n",
    "    file_paths = []  # List which will store all of the full filepaths.\n",
    "    file_paths = [str(p) for p in Path(directory).glob(\"*\")]\n",
    "    return file_paths"
   ]
  },
  {
   "cell_type": "markdown",
   "metadata": {},
   "source": [
    "## Read and process data"
   ]
  },
  {
   "cell_type": "code",
   "execution_count": 5,
   "metadata": {},
   "outputs": [],
   "source": [
    "os.rename('../data/Body-BMI_released/2kvsfe/2kvsfe_Pwy4l0m__175_69_false_46_0.75.jpg', '../data/Body-BMI_released/2kvsfe/2kvsfe_Pwy4l0m_175_69_false_46_0.75.jpg')\n",
    "os.rename('../data/Body-BMI_released/2kvsfe/2kvsfe_z4sjPvI_209__69_false_46_0.75.jpg', '../data/Body-BMI_released/2kvsfe/2kvsfe_z4sjPvI_209_69_false_46_0.75.jpg')"
   ]
  },
  {
   "cell_type": "code",
   "execution_count": 6,
   "metadata": {},
   "outputs": [],
   "source": [
    "images = glob.glob(\"../data/Body-BMI_released/*/*.jpg\")"
   ]
  },
  {
   "cell_type": "code",
   "execution_count": 7,
   "metadata": {},
   "outputs": [],
   "source": [
    "person_list = []\n",
    "imid_list = []\n",
    "weight_list = []\n",
    "height_list = []\n",
    "gender_list = []\n",
    "\n",
    "for img in images:\n",
    "    person, im_id, weight, height, gender = img.split(\"/\")[-1].split(\"_\")[:5]\n",
    "    person_list.append(person)\n",
    "    imid_list.append(im_id)\n",
    "    weight_list.append(int(weight))\n",
    "    height_list.append(int(height))\n",
    "    if gender == \"true\":\n",
    "        gender_list.append(\"Female\")\n",
    "    else:\n",
    "        gender_list.append(\"Male\")"
   ]
  },
  {
   "cell_type": "code",
   "execution_count": 8,
   "metadata": {},
   "outputs": [
    {
     "data": {
      "text/html": [
       "<div>\n",
       "<style scoped>\n",
       "    .dataframe tbody tr th:only-of-type {\n",
       "        vertical-align: middle;\n",
       "    }\n",
       "\n",
       "    .dataframe tbody tr th {\n",
       "        vertical-align: top;\n",
       "    }\n",
       "\n",
       "    .dataframe thead th {\n",
       "        text-align: right;\n",
       "    }\n",
       "</style>\n",
       "<table border=\"1\" class=\"dataframe\">\n",
       "  <thead>\n",
       "    <tr style=\"text-align: right;\">\n",
       "      <th></th>\n",
       "      <th>person</th>\n",
       "      <th>im_id</th>\n",
       "      <th>weight</th>\n",
       "      <th>height</th>\n",
       "      <th>gender</th>\n",
       "      <th>path</th>\n",
       "      <th>bmi</th>\n",
       "    </tr>\n",
       "  </thead>\n",
       "  <tbody>\n",
       "    <tr>\n",
       "      <th>0</th>\n",
       "      <td>19bfyg</td>\n",
       "      <td>evE36qu</td>\n",
       "      <td>210</td>\n",
       "      <td>71</td>\n",
       "      <td>Male</td>\n",
       "      <td>../data/Body-BMI_released/19bfyg/19bfyg_evE36q...</td>\n",
       "      <td>29.285856</td>\n",
       "    </tr>\n",
       "    <tr>\n",
       "      <th>1</th>\n",
       "      <td>19bfyg</td>\n",
       "      <td>dvE36qu</td>\n",
       "      <td>210</td>\n",
       "      <td>71</td>\n",
       "      <td>Male</td>\n",
       "      <td>../data/Body-BMI_released/19bfyg/19bfyg_dvE36q...</td>\n",
       "      <td>29.285856</td>\n",
       "    </tr>\n",
       "    <tr>\n",
       "      <th>2</th>\n",
       "      <td>2hy0cf</td>\n",
       "      <td>yXWCuAp</td>\n",
       "      <td>155</td>\n",
       "      <td>68</td>\n",
       "      <td>Male</td>\n",
       "      <td>../data/Body-BMI_released/2hy0cf/2hy0cf_yXWCuA...</td>\n",
       "      <td>23.565095</td>\n",
       "    </tr>\n",
       "    <tr>\n",
       "      <th>3</th>\n",
       "      <td>2hy0cf</td>\n",
       "      <td>yXWCuAp</td>\n",
       "      <td>196</td>\n",
       "      <td>68</td>\n",
       "      <td>Male</td>\n",
       "      <td>../data/Body-BMI_released/2hy0cf/2hy0cf_yXWCuA...</td>\n",
       "      <td>29.798443</td>\n",
       "    </tr>\n",
       "    <tr>\n",
       "      <th>4</th>\n",
       "      <td>2t2bw9</td>\n",
       "      <td>lsMFarD</td>\n",
       "      <td>154</td>\n",
       "      <td>71</td>\n",
       "      <td>Male</td>\n",
       "      <td>../data/Body-BMI_released/2t2bw9/2t2bw9_lsMFar...</td>\n",
       "      <td>21.476294</td>\n",
       "    </tr>\n",
       "    <tr>\n",
       "      <th>...</th>\n",
       "      <td>...</td>\n",
       "      <td>...</td>\n",
       "      <td>...</td>\n",
       "      <td>...</td>\n",
       "      <td>...</td>\n",
       "      <td>...</td>\n",
       "      <td>...</td>\n",
       "    </tr>\n",
       "    <tr>\n",
       "      <th>5895</th>\n",
       "      <td>2ywubp</td>\n",
       "      <td>DXBqWh4</td>\n",
       "      <td>178</td>\n",
       "      <td>66</td>\n",
       "      <td>Female</td>\n",
       "      <td>../data/Body-BMI_released/2ywubp/2ywubp_DXBqWh...</td>\n",
       "      <td>28.726814</td>\n",
       "    </tr>\n",
       "    <tr>\n",
       "      <th>5896</th>\n",
       "      <td>1mnfxl</td>\n",
       "      <td>Z76rZMB</td>\n",
       "      <td>225</td>\n",
       "      <td>71</td>\n",
       "      <td>Female</td>\n",
       "      <td>../data/Body-BMI_released/1mnfxl/1mnfxl_Z76rZM...</td>\n",
       "      <td>31.377703</td>\n",
       "    </tr>\n",
       "    <tr>\n",
       "      <th>5897</th>\n",
       "      <td>1mnfxl</td>\n",
       "      <td>cvA6CnW</td>\n",
       "      <td>285</td>\n",
       "      <td>71</td>\n",
       "      <td>Female</td>\n",
       "      <td>../data/Body-BMI_released/1mnfxl/1mnfxl_cvA6Cn...</td>\n",
       "      <td>39.745090</td>\n",
       "    </tr>\n",
       "    <tr>\n",
       "      <th>5898</th>\n",
       "      <td>2q3xlz</td>\n",
       "      <td>IsrvV4v</td>\n",
       "      <td>182</td>\n",
       "      <td>72</td>\n",
       "      <td>Male</td>\n",
       "      <td>../data/Body-BMI_released/2q3xlz/2q3xlz_IsrvV4...</td>\n",
       "      <td>24.680941</td>\n",
       "    </tr>\n",
       "    <tr>\n",
       "      <th>5899</th>\n",
       "      <td>2q3xlz</td>\n",
       "      <td>IsrvV4v</td>\n",
       "      <td>300</td>\n",
       "      <td>72</td>\n",
       "      <td>Male</td>\n",
       "      <td>../data/Body-BMI_released/2q3xlz/2q3xlz_IsrvV4...</td>\n",
       "      <td>40.682870</td>\n",
       "    </tr>\n",
       "  </tbody>\n",
       "</table>\n",
       "<p>5900 rows × 7 columns</p>\n",
       "</div>"
      ],
      "text/plain": [
       "      person    im_id  weight  height  gender  \\\n",
       "0     19bfyg  evE36qu     210      71    Male   \n",
       "1     19bfyg  dvE36qu     210      71    Male   \n",
       "2     2hy0cf  yXWCuAp     155      68    Male   \n",
       "3     2hy0cf  yXWCuAp     196      68    Male   \n",
       "4     2t2bw9  lsMFarD     154      71    Male   \n",
       "...      ...      ...     ...     ...     ...   \n",
       "5895  2ywubp  DXBqWh4     178      66  Female   \n",
       "5896  1mnfxl  Z76rZMB     225      71  Female   \n",
       "5897  1mnfxl  cvA6CnW     285      71  Female   \n",
       "5898  2q3xlz  IsrvV4v     182      72    Male   \n",
       "5899  2q3xlz  IsrvV4v     300      72    Male   \n",
       "\n",
       "                                                   path        bmi  \n",
       "0     ../data/Body-BMI_released/19bfyg/19bfyg_evE36q...  29.285856  \n",
       "1     ../data/Body-BMI_released/19bfyg/19bfyg_dvE36q...  29.285856  \n",
       "2     ../data/Body-BMI_released/2hy0cf/2hy0cf_yXWCuA...  23.565095  \n",
       "3     ../data/Body-BMI_released/2hy0cf/2hy0cf_yXWCuA...  29.798443  \n",
       "4     ../data/Body-BMI_released/2t2bw9/2t2bw9_lsMFar...  21.476294  \n",
       "...                                                 ...        ...  \n",
       "5895  ../data/Body-BMI_released/2ywubp/2ywubp_DXBqWh...  28.726814  \n",
       "5896  ../data/Body-BMI_released/1mnfxl/1mnfxl_Z76rZM...  31.377703  \n",
       "5897  ../data/Body-BMI_released/1mnfxl/1mnfxl_cvA6Cn...  39.745090  \n",
       "5898  ../data/Body-BMI_released/2q3xlz/2q3xlz_IsrvV4...  24.680941  \n",
       "5899  ../data/Body-BMI_released/2q3xlz/2q3xlz_IsrvV4...  40.682870  \n",
       "\n",
       "[5900 rows x 7 columns]"
      ]
     },
     "execution_count": 8,
     "metadata": {},
     "output_type": "execute_result"
    }
   ],
   "source": [
    "dict = {\n",
    "    'person': person_list, \n",
    "    'im_id': imid_list, \n",
    "    'weight': weight_list,\n",
    "    'height': height_list,\n",
    "    'gender': gender_list,\n",
    "    'path': images\n",
    "    } \n",
    "    \n",
    "df_main = pd.DataFrame(dict)\n",
    "\n",
    "def calc_bmi(weight,height):\n",
    "    return (weight * 703)/(height**2)\n",
    "\n",
    "df_main['bmi'] = df_main.apply(lambda x: calc_bmi(x.weight, x.height), axis=1)\n",
    "    \n",
    "df_main "
   ]
  },
  {
   "cell_type": "code",
   "execution_count": 9,
   "metadata": {},
   "outputs": [
    {
     "data": {
      "text/plain": [
       "Male      3968\n",
       "Female    1932\n",
       "Name: gender, dtype: int64"
      ]
     },
     "execution_count": 9,
     "metadata": {},
     "output_type": "execute_result"
    }
   ],
   "source": [
    "df_main['gender'].value_counts()"
   ]
  },
  {
   "cell_type": "code",
   "execution_count": 10,
   "metadata": {},
   "outputs": [
    {
     "data": {
      "text/plain": [
       "count    5900.000000\n",
       "mean       30.782866\n",
       "std         8.250032\n",
       "min        14.765806\n",
       "25%        25.056806\n",
       "50%        28.693878\n",
       "75%        34.960927\n",
       "max        87.675737\n",
       "Name: bmi, dtype: float64"
      ]
     },
     "execution_count": 10,
     "metadata": {},
     "output_type": "execute_result"
    }
   ],
   "source": [
    "df_main['bmi'].describe()"
   ]
  },
  {
   "cell_type": "code",
   "execution_count": 11,
   "metadata": {},
   "outputs": [
    {
     "data": {
      "text/html": [
       "<div>\n",
       "<style scoped>\n",
       "    .dataframe tbody tr th:only-of-type {\n",
       "        vertical-align: middle;\n",
       "    }\n",
       "\n",
       "    .dataframe tbody tr th {\n",
       "        vertical-align: top;\n",
       "    }\n",
       "\n",
       "    .dataframe thead th {\n",
       "        text-align: right;\n",
       "    }\n",
       "</style>\n",
       "<table border=\"1\" class=\"dataframe\">\n",
       "  <thead>\n",
       "    <tr style=\"text-align: right;\">\n",
       "      <th></th>\n",
       "      <th>person</th>\n",
       "      <th>im_id</th>\n",
       "      <th>weight</th>\n",
       "      <th>height</th>\n",
       "      <th>gender</th>\n",
       "      <th>path</th>\n",
       "      <th>bmi</th>\n",
       "      <th>body_type</th>\n",
       "    </tr>\n",
       "  </thead>\n",
       "  <tbody>\n",
       "    <tr>\n",
       "      <th>0</th>\n",
       "      <td>19bfyg</td>\n",
       "      <td>evE36qu</td>\n",
       "      <td>210</td>\n",
       "      <td>71</td>\n",
       "      <td>Male</td>\n",
       "      <td>../data/Body-BMI_released/19bfyg/19bfyg_evE36q...</td>\n",
       "      <td>29.285856</td>\n",
       "      <td>Overweight</td>\n",
       "    </tr>\n",
       "    <tr>\n",
       "      <th>1</th>\n",
       "      <td>19bfyg</td>\n",
       "      <td>dvE36qu</td>\n",
       "      <td>210</td>\n",
       "      <td>71</td>\n",
       "      <td>Male</td>\n",
       "      <td>../data/Body-BMI_released/19bfyg/19bfyg_dvE36q...</td>\n",
       "      <td>29.285856</td>\n",
       "      <td>Overweight</td>\n",
       "    </tr>\n",
       "    <tr>\n",
       "      <th>2</th>\n",
       "      <td>2hy0cf</td>\n",
       "      <td>yXWCuAp</td>\n",
       "      <td>155</td>\n",
       "      <td>68</td>\n",
       "      <td>Male</td>\n",
       "      <td>../data/Body-BMI_released/2hy0cf/2hy0cf_yXWCuA...</td>\n",
       "      <td>23.565095</td>\n",
       "      <td>Normal_weight</td>\n",
       "    </tr>\n",
       "    <tr>\n",
       "      <th>3</th>\n",
       "      <td>2hy0cf</td>\n",
       "      <td>yXWCuAp</td>\n",
       "      <td>196</td>\n",
       "      <td>68</td>\n",
       "      <td>Male</td>\n",
       "      <td>../data/Body-BMI_released/2hy0cf/2hy0cf_yXWCuA...</td>\n",
       "      <td>29.798443</td>\n",
       "      <td>Overweight</td>\n",
       "    </tr>\n",
       "    <tr>\n",
       "      <th>4</th>\n",
       "      <td>2t2bw9</td>\n",
       "      <td>lsMFarD</td>\n",
       "      <td>154</td>\n",
       "      <td>71</td>\n",
       "      <td>Male</td>\n",
       "      <td>../data/Body-BMI_released/2t2bw9/2t2bw9_lsMFar...</td>\n",
       "      <td>21.476294</td>\n",
       "      <td>Normal_weight</td>\n",
       "    </tr>\n",
       "    <tr>\n",
       "      <th>...</th>\n",
       "      <td>...</td>\n",
       "      <td>...</td>\n",
       "      <td>...</td>\n",
       "      <td>...</td>\n",
       "      <td>...</td>\n",
       "      <td>...</td>\n",
       "      <td>...</td>\n",
       "      <td>...</td>\n",
       "    </tr>\n",
       "    <tr>\n",
       "      <th>5895</th>\n",
       "      <td>2ywubp</td>\n",
       "      <td>DXBqWh4</td>\n",
       "      <td>178</td>\n",
       "      <td>66</td>\n",
       "      <td>Female</td>\n",
       "      <td>../data/Body-BMI_released/2ywubp/2ywubp_DXBqWh...</td>\n",
       "      <td>28.726814</td>\n",
       "      <td>Overweight</td>\n",
       "    </tr>\n",
       "    <tr>\n",
       "      <th>5896</th>\n",
       "      <td>1mnfxl</td>\n",
       "      <td>Z76rZMB</td>\n",
       "      <td>225</td>\n",
       "      <td>71</td>\n",
       "      <td>Female</td>\n",
       "      <td>../data/Body-BMI_released/1mnfxl/1mnfxl_Z76rZM...</td>\n",
       "      <td>31.377703</td>\n",
       "      <td>Obese</td>\n",
       "    </tr>\n",
       "    <tr>\n",
       "      <th>5897</th>\n",
       "      <td>1mnfxl</td>\n",
       "      <td>cvA6CnW</td>\n",
       "      <td>285</td>\n",
       "      <td>71</td>\n",
       "      <td>Female</td>\n",
       "      <td>../data/Body-BMI_released/1mnfxl/1mnfxl_cvA6Cn...</td>\n",
       "      <td>39.745090</td>\n",
       "      <td>Obese</td>\n",
       "    </tr>\n",
       "    <tr>\n",
       "      <th>5898</th>\n",
       "      <td>2q3xlz</td>\n",
       "      <td>IsrvV4v</td>\n",
       "      <td>182</td>\n",
       "      <td>72</td>\n",
       "      <td>Male</td>\n",
       "      <td>../data/Body-BMI_released/2q3xlz/2q3xlz_IsrvV4...</td>\n",
       "      <td>24.680941</td>\n",
       "      <td>Normal_weight</td>\n",
       "    </tr>\n",
       "    <tr>\n",
       "      <th>5899</th>\n",
       "      <td>2q3xlz</td>\n",
       "      <td>IsrvV4v</td>\n",
       "      <td>300</td>\n",
       "      <td>72</td>\n",
       "      <td>Male</td>\n",
       "      <td>../data/Body-BMI_released/2q3xlz/2q3xlz_IsrvV4...</td>\n",
       "      <td>40.682870</td>\n",
       "      <td>Obese</td>\n",
       "    </tr>\n",
       "  </tbody>\n",
       "</table>\n",
       "<p>5900 rows × 8 columns</p>\n",
       "</div>"
      ],
      "text/plain": [
       "      person    im_id  weight  height  gender  \\\n",
       "0     19bfyg  evE36qu     210      71    Male   \n",
       "1     19bfyg  dvE36qu     210      71    Male   \n",
       "2     2hy0cf  yXWCuAp     155      68    Male   \n",
       "3     2hy0cf  yXWCuAp     196      68    Male   \n",
       "4     2t2bw9  lsMFarD     154      71    Male   \n",
       "...      ...      ...     ...     ...     ...   \n",
       "5895  2ywubp  DXBqWh4     178      66  Female   \n",
       "5896  1mnfxl  Z76rZMB     225      71  Female   \n",
       "5897  1mnfxl  cvA6CnW     285      71  Female   \n",
       "5898  2q3xlz  IsrvV4v     182      72    Male   \n",
       "5899  2q3xlz  IsrvV4v     300      72    Male   \n",
       "\n",
       "                                                   path        bmi  \\\n",
       "0     ../data/Body-BMI_released/19bfyg/19bfyg_evE36q...  29.285856   \n",
       "1     ../data/Body-BMI_released/19bfyg/19bfyg_dvE36q...  29.285856   \n",
       "2     ../data/Body-BMI_released/2hy0cf/2hy0cf_yXWCuA...  23.565095   \n",
       "3     ../data/Body-BMI_released/2hy0cf/2hy0cf_yXWCuA...  29.798443   \n",
       "4     ../data/Body-BMI_released/2t2bw9/2t2bw9_lsMFar...  21.476294   \n",
       "...                                                 ...        ...   \n",
       "5895  ../data/Body-BMI_released/2ywubp/2ywubp_DXBqWh...  28.726814   \n",
       "5896  ../data/Body-BMI_released/1mnfxl/1mnfxl_Z76rZM...  31.377703   \n",
       "5897  ../data/Body-BMI_released/1mnfxl/1mnfxl_cvA6Cn...  39.745090   \n",
       "5898  ../data/Body-BMI_released/2q3xlz/2q3xlz_IsrvV4...  24.680941   \n",
       "5899  ../data/Body-BMI_released/2q3xlz/2q3xlz_IsrvV4...  40.682870   \n",
       "\n",
       "          body_type  \n",
       "0        Overweight  \n",
       "1        Overweight  \n",
       "2     Normal_weight  \n",
       "3        Overweight  \n",
       "4     Normal_weight  \n",
       "...             ...  \n",
       "5895     Overweight  \n",
       "5896          Obese  \n",
       "5897          Obese  \n",
       "5898  Normal_weight  \n",
       "5899          Obese  \n",
       "\n",
       "[5900 rows x 8 columns]"
      ]
     },
     "execution_count": 11,
     "metadata": {},
     "output_type": "execute_result"
    }
   ],
   "source": [
    "# Underweight = <18.5\n",
    "# Normal weight = 18.5–24.9\n",
    "# Overweight = 25–29.9\n",
    "# Obesity = BMI of 30 or greater\n",
    "\n",
    "def classify_bmi(bmi):\n",
    "    if bmi < 18.5:\n",
    "        return \"Underweight\"\n",
    "    elif 18.5 < bmi < 24.9:\n",
    "        return \"Normal_weight\"\n",
    "    elif 25 < bmi < 29.9:\n",
    "        return \"Overweight\"\n",
    "    elif bmi > 30:\n",
    "        return \"Obese\"\n",
    "    \n",
    "df_main['body_type'] = df_main.apply(lambda x: classify_bmi(x.bmi), axis=1)\n",
    "    \n",
    "df_main  "
   ]
  },
  {
   "cell_type": "markdown",
   "metadata": {},
   "source": [
    "## Women"
   ]
  },
  {
   "cell_type": "code",
   "execution_count": 12,
   "metadata": {},
   "outputs": [],
   "source": [
    "df = df_main[df_main[\"gender\"] == \"Female\"]"
   ]
  },
  {
   "cell_type": "code",
   "execution_count": 13,
   "metadata": {},
   "outputs": [],
   "source": [
    "full_file_paths = df['path'].values"
   ]
  },
  {
   "cell_type": "code",
   "execution_count": 14,
   "metadata": {
    "scrolled": true
   },
   "outputs": [
    {
     "name": "stdout",
     "output_type": "stream",
     "text": [
      "top body type group by size:\n",
      " body_type\n",
      "Obese            932\n",
      "Overweight       530\n",
      "Normal_weight    445\n",
      "Underweight        7\n",
      "dtype: int64\n"
     ]
    }
   ],
   "source": [
    "BODYTYPE_SIZE_THRESHOLD = 40\n",
    "bodytype_size_pandas = df.groupby(\"body_type\").size()\n",
    "print(\n",
    "    \"top body type group by size:\\n\", bodytype_size_pandas.sort_values(ascending=False)[:20]\n",
    ")\n",
    "bodytype_big_enough = bodytype_size_pandas[\n",
    "    bodytype_size_pandas.values >= BODYTYPE_SIZE_THRESHOLD\n",
    "].index.values"
   ]
  },
  {
   "cell_type": "code",
   "execution_count": 15,
   "metadata": {},
   "outputs": [],
   "source": [
    "# cut if the group is too small\n",
    "GROUP_THRESHOLD = 100\n",
    "\n",
    "def get_grouped_images(\n",
    "    df, by_columns=[\"race\"], group_threshold=GROUP_THRESHOLD\n",
    "):\n",
    "    \"\"\"\n",
    "    race_threshold: if the size of the group is less than the threshold, then ignore the group to be in the dictionary\n",
    "    \"\"\"\n",
    "    grouped_images_dict = {}\n",
    "    grouped_images_race = df.groupby(by_columns)\n",
    "\n",
    "    for name, group in grouped_images_race:\n",
    "        print(name)\n",
    "        print(\"Size of the group:\", len(group))\n",
    "        if group_threshold is not None:\n",
    "            if len(group) < group_threshold:\n",
    "                print(\"\\tSize is smaller than\", group_threshold, \". Skip this group.\")\n",
    "                continue\n",
    "        grouped_images_dict[name] = group\n",
    "\n",
    "    return grouped_images_dict"
   ]
  },
  {
   "cell_type": "code",
   "execution_count": 16,
   "metadata": {},
   "outputs": [
    {
     "name": "stdout",
     "output_type": "stream",
     "text": [
      "Normal_weight\n",
      "Size of the group: 445\n",
      "Obese\n",
      "Size of the group: 932\n",
      "Overweight\n",
      "Size of the group: 530\n",
      "Underweight\n",
      "Size of the group: 7\n",
      "\tSize is smaller than 100 . Skip this group.\n"
     ]
    }
   ],
   "source": [
    "# choose your option here\n",
    "grouped_images_dict = get_grouped_images(\n",
    "    df, by_columns=[\"body_type\"]\n",
    ")"
   ]
  },
  {
   "cell_type": "code",
   "execution_count": 17,
   "metadata": {},
   "outputs": [
    {
     "data": {
      "text/plain": [
       "dict_keys(['Normal_weight', 'Obese', 'Overweight'])"
      ]
     },
     "execution_count": 17,
     "metadata": {},
     "output_type": "execute_result"
    }
   ],
   "source": [
    "grouped_images_dict.keys()"
   ]
  },
  {
   "cell_type": "markdown",
   "metadata": {},
   "source": [
    "# Setting up Tools to use"
   ]
  },
  {
   "cell_type": "code",
   "execution_count": 18,
   "metadata": {},
   "outputs": [],
   "source": [
    "def img_resize_fixed_aspect(img, fixed_width=None, fixed_height=256):\n",
    "    w, h = img.size\n",
    "    if fixed_height:\n",
    "        return img.resize((int(w * fixed_height / h), fixed_height))\n",
    "    elif fixed_width:\n",
    "        raise Exception(\"Not implemented.\")\n",
    "\n",
    "\n",
    "def attach_img(\n",
    "    images,\n",
    "    fixed_height=None,\n",
    "    display_img_full_size=False,\n",
    "    display_figsize=None,\n",
    "    pixel_size_upperbound=None,\n",
    "):\n",
    "    \"\"\"\n",
    "    Given a list of images (of PIL Image class or image paths), attach them horizontally and return a new image.\n",
    "    \n",
    "    images: list of images or a list of paths to images\n",
    "    fixed_height: all images are resized (while fixing the aspect ratio) to the specified height.\n",
    "    If you don't want to resize, set this to None\n",
    "    display_img_full_size: If true, will display the image at full resolution\n",
    "    display_figsize: if given, as (x,y), will use matplotlib to display images with figsize=(x,y)\n",
    "    pixel_size_upperbound: if given, images with width or height above this number will be resized down \n",
    "    while fixing the aspect ratio until both the width and height is at most the number.\n",
    "    \"\"\"\n",
    "    if isinstance(images[0], str) or isinstance(images[0], Path):\n",
    "        images = [Image.open(str(img_path)) for img_path in images]\n",
    "    if fixed_height is not None:\n",
    "        images = [\n",
    "            img_resize_fixed_aspect(img, fixed_height=fixed_height) for img in images\n",
    "        ]\n",
    "    if pixel_size_upperbound is not None:\n",
    "        for i in range(len(images)):\n",
    "            w, h = images[i].size\n",
    "            if w > pixel_size_upperbound:\n",
    "                images[i] = images[i].resize(\n",
    "                    (pixel_size_upperbound, int(pixel_size_upperbound / w * h))\n",
    "                )\n",
    "            w, h = images[i].size\n",
    "            if h > pixel_size_upperbound:\n",
    "                images[i] = images[i].resize(\n",
    "                    (int(pixel_size_upperbound / h * w), pixel_size_upperbound)\n",
    "                )\n",
    "    widths, heights = zip(*(i.size for i in images))\n",
    "    total_width = sum(widths)\n",
    "    max_height = max(heights)\n",
    "    new_im = Image.new(\"RGB\", (total_width, max_height))\n",
    "    x_offset = 0\n",
    "    for im in images:\n",
    "        new_im.paste(im, (x_offset, 0))\n",
    "        x_offset += im.size[0]\n",
    "    if display_img_full_size:\n",
    "        display(new_im)  # This shows image at full resolution\n",
    "    if display_figsize:\n",
    "        fig = plt.figure(figsize=display_figsize)\n",
    "        plt.imshow(\n",
    "            np.asarray(new_im)\n",
    "        )  # This shows scaled down version in matplotlib plot using figsize\n",
    "    return (new_im, widths, heights)"
   ]
  },
  {
   "cell_type": "code",
   "execution_count": 19,
   "metadata": {},
   "outputs": [],
   "source": [
    "def locate_which_img(location, widths):\n",
    "    \"\"\"\n",
    "    Given a list of widths of the images that are attached (from left to right), and a location,\n",
    "    output what image contains that location.\n",
    "    E.g. widths = 100, 200, 100\n",
    "    location = 50 --> index = 0\n",
    "    location = 350 --> index = 2\n",
    "    location = 100 --> index = 1\n",
    "    location >= 400 --> index = -1\n",
    "    \"\"\"\n",
    "    index = 0\n",
    "    while location >= widths[index]:\n",
    "        location -= widths[index]\n",
    "        index += 1\n",
    "        if index >= len(widths):\n",
    "            return -1\n",
    "    return index"
   ]
  },
  {
   "cell_type": "code",
   "execution_count": 20,
   "metadata": {},
   "outputs": [],
   "source": [
    "def parse_output(output):\n",
    "    output = output.splitlines()\n",
    "    final_output = {\"salient_point\": [], \"crops\": [], \"all_salient_points\": []}\n",
    "    key = \"salient_point\"\n",
    "    for i, line in enumerate(output):\n",
    "        line = line.split()\n",
    "        if len(line) in {2, 4}:\n",
    "            line = [int(v) for v in line]\n",
    "            if i != 0:\n",
    "                key = \"crops\"\n",
    "        elif len(line) == 3:\n",
    "            key = \"all_salient_points\"\n",
    "            line = [float(v) for v in line]\n",
    "        else:\n",
    "            raise RuntimeError(f\"Invalid line: {line}\")\n",
    "        final_output[key].append(line)\n",
    "    return final_output"
   ]
  },
  {
   "cell_type": "code",
   "execution_count": 21,
   "metadata": {},
   "outputs": [],
   "source": [
    "def get_salient_info(img_path):\n",
    "    \"\"\"\n",
    "    Given a path (as an instance of Path or a string or an image), output the salient information.\n",
    "    \n",
    "    The output is a dictionary with:\n",
    "    'salient_point': a list of pixels, usually only one. E.g. [[507, 328]]\n",
    "    'crops': a list of crops (for each aspect ratio) in the format crop_x crop_y crop_w crop_h\n",
    "    'all_salient_points': the pixel location at the original image with its salient score. It is a list of\n",
    "    [x, y, salient score]\n",
    "    \"\"\"\n",
    "    if isinstance(img_path, str):\n",
    "        img_path = Path(img_path)\n",
    "    try:\n",
    "        cmd = f\"{str(bin_path)} {str(model_path)} '{img_path.absolute()}' show_all_points\"\n",
    "        output = subprocess.check_output(cmd, shell=True)  # Success!\n",
    "        return parse_output(output)\n",
    "    except:\n",
    "        print(\"Running the model to get salient point fails. Returning None.\")\n",
    "        return None"
   ]
  },
  {
   "cell_type": "code",
   "execution_count": 22,
   "metadata": {},
   "outputs": [
    {
     "data": {
      "text/plain": [
       "0.5558920648076923"
      ]
     },
     "execution_count": 22,
     "metadata": {},
     "output_type": "execute_result"
    }
   ],
   "source": [
    "salient_scores = [\n",
    "    point[2] for point in get_salient_info(full_file_paths[3])[\"all_salient_points\"]\n",
    "]\n",
    "np.percentile(salient_scores, 100)\n",
    "np.mean(salient_scores)"
   ]
  },
  {
   "cell_type": "markdown",
   "metadata": {},
   "source": [
    "## Higher-level Tools"
   ]
  },
  {
   "cell_type": "code",
   "execution_count": 23,
   "metadata": {},
   "outputs": [
    {
     "data": {
      "text/plain": [
       "True"
      ]
     },
     "execution_count": 23,
     "metadata": {},
     "output_type": "execute_result"
    }
   ],
   "source": [
    "SAVE_DIR_ATTACHED = data_dir / \"./attached\"\n",
    "if not os.path.isdir(SAVE_DIR_ATTACHED):\n",
    "    os.mkdir(SAVE_DIR_ATTACHED)\n",
    "os.path.isdir(SAVE_DIR_ATTACHED)"
   ]
  },
  {
   "cell_type": "code",
   "execution_count": 24,
   "metadata": {},
   "outputs": [
    {
     "data": {
      "text/plain": [
       "True"
      ]
     },
     "execution_count": 24,
     "metadata": {},
     "output_type": "execute_result"
    }
   ],
   "source": [
    "RESULT_FILE_PATH = data_dir / \"./bmi_female_results.txt\"\n",
    "if not os.path.isfile(RESULT_FILE_PATH):\n",
    "    # Creates a new file\n",
    "    with open(RESULT_FILE_PATH, \"a\") as fp:\n",
    "        pass\n",
    "os.path.isfile(RESULT_FILE_PATH)"
   ]
  },
  {
   "cell_type": "markdown",
   "metadata": {},
   "source": [
    "### Pairwise comparison"
   ]
  },
  {
   "cell_type": "code",
   "execution_count": 25,
   "metadata": {},
   "outputs": [],
   "source": [
    "SAVE_DIR_ATTACHED = data_dir / \"./attached\"\n",
    "if not os.path.isdir(SAVE_DIR_ATTACHED):\n",
    "    os.mkdir(SAVE_DIR_ATTACHED)"
   ]
  },
  {
   "cell_type": "code",
   "execution_count": 26,
   "metadata": {},
   "outputs": [],
   "source": [
    "def compute_group_comparison(\n",
    "    df_list,\n",
    "    save_dir=SAVE_DIR_ATTACHED,\n",
    "    num_iterations=200,\n",
    "    log_every=100,\n",
    "    warn_outside_ori_image=True,\n",
    "    fixed_height=None,\n",
    "    pixel_size_upperbound=None,\n",
    "):\n",
    "    \"\"\"\n",
    "    Given a list of dataframe of groups g_1, g_2, ..., g_k, each of which contains the column 'path' to the image file:\n",
    "    - sample uniformly one image from each group\n",
    "    - attach image into one image\n",
    "    - apply saliency mapping\n",
    "    - find the number of times max salient points land in each picture\n",
    "    \"\"\"\n",
    "    num_max_salient_per_group = np.zeros(len(df_list))\n",
    "    for i in range(num_iterations):\n",
    "        salient_info = None\n",
    "        while salient_info is None:  # if cmd in get_salient_info failed, resample\n",
    "            # Sample images as paths\n",
    "            sample_img_paths = [(df.sample())[\"path\"].item() for df in df_list]\n",
    "            attached_img, widths, heights = attach_img(\n",
    "                sample_img_paths,\n",
    "                fixed_height=fixed_height,\n",
    "                pixel_size_upperbound=pixel_size_upperbound,\n",
    "            )\n",
    "            attached_path = str(save_dir) + \"/\" + str(i) + \".jpg\"\n",
    "            attached_img.save(attached_path)\n",
    "            # try to get salient information. Will get None if fails.\n",
    "            salient_info = get_salient_info(attached_path)\n",
    "\n",
    "        # get salient point and where it lands\n",
    "        all_salient_points = salient_info[\"salient_point\"]\n",
    "        if len(all_salient_points) > 1:\n",
    "            print(\n",
    "                \"Warning: there is more than one maximum salient point. Using the first one returned from the algorithms.\"\n",
    "            )\n",
    "        salient_point_x, salient_point_y = all_salient_points[0]\n",
    "        max_salient_pic_index = locate_which_img(salient_point_x, widths)\n",
    "        if warn_outside_ori_image and salient_point_y >= heights[max_salient_pic_index]:\n",
    "            # this means the point is outside of the original image\n",
    "            print(\n",
    "                \"Warning: salient point is located at the background from attaching images, outside of original.\"\n",
    "            )\n",
    "        num_max_salient_per_group[max_salient_pic_index] += 1\n",
    "        if (i + 1) % log_every == 0:\n",
    "            print((i + 1), \"/\", num_iterations, \"iterations of sampling has been done.\")\n",
    "    return num_max_salient_per_group"
   ]
  },
  {
   "cell_type": "code",
   "execution_count": 27,
   "metadata": {},
   "outputs": [],
   "source": [
    "# In general, we can give the name of two groups in grouped_images_dict, and return this statistics of how many land in each\n",
    "def compute_comparison_from_group_name(\n",
    "    grouped_images_dict,\n",
    "    group_name_list,\n",
    "    normalize=False,\n",
    "    save_dir=SAVE_DIR_ATTACHED,\n",
    "    num_iterations=200,\n",
    "    fixed_height=None,\n",
    "    pixel_size_upperbound=None,\n",
    "    save_result=RESULT_FILE_PATH,\n",
    "    log_every=100,\n",
    "    print_summary=True,\n",
    "    save_setting=\"default\",\n",
    "):\n",
    "    \"\"\"\n",
    "    Given a list of group names, which are keys of the dictionary grouped_images_dict,\n",
    "    whose values are pandas dataframe with column \"path\",\n",
    "    return the number of times salient points lands in each of the group out of num_iterations iterations of sampling.\n",
    "    \n",
    "    Args:\n",
    "        grouped_images_dict: a dictionary where keys are group names, and values are pandas dataframe which contains 'path'\n",
    "    \"\"\"\n",
    "    start_time = time.time()\n",
    "    stats = compute_group_comparison(\n",
    "        [grouped_images_dict[group_name] for group_name in group_name_list],\n",
    "        save_dir=save_dir,\n",
    "        num_iterations=num_iterations,\n",
    "        fixed_height=fixed_height,\n",
    "        log_every=log_every,\n",
    "        pixel_size_upperbound=pixel_size_upperbound,\n",
    "    )\n",
    "    if normalize:\n",
    "        stats = stats / num_iterations\n",
    "    if print_summary:\n",
    "        print(\"The groups entered are: \" + str(group_name_list))\n",
    "        print(\"The statistic is: \" + str(stats))\n",
    "        print(\"Size of the sample: \" + str(num_iterations))\n",
    "    if save_result:\n",
    "        with open(RESULT_FILE_PATH, \"a\") as fp:\n",
    "            to_write_info_dict = {\n",
    "                \"group_name_list\": group_name_list,\n",
    "                \"stats\": stats,\n",
    "                \"num_iterations\": num_iterations,\n",
    "            }\n",
    "            if save_setting:\n",
    "                to_write_info_dict[\"setting\"] = save_setting\n",
    "            fp.write(str(to_write_info_dict) + \"\\n\")\n",
    "    time_used = time.time() - start_time\n",
    "    print(\"total time used:\", time_used, \"seconds.\")\n",
    "    print(\"time used per comparison:\", time_used / num_iterations, \"seconds.\")\n",
    "    return stats"
   ]
  },
  {
   "cell_type": "markdown",
   "metadata": {},
   "source": [
    "### Get a list of saliency point statistics\n",
    "\n",
    "Such as max, 95th, 90th, 50th, and 25th percentile"
   ]
  },
  {
   "cell_type": "code",
   "execution_count": 28,
   "metadata": {},
   "outputs": [],
   "source": [
    "def compute_saliency_stats(\n",
    "    file_path_list,\n",
    "    sample=None,\n",
    "    percentile_queries=[25, 50, 75, 90, 95, 100],\n",
    "    fixed_height=None,\n",
    "    pixel_size_upperbound=None,\n",
    "    save_dir=SAVE_DIR_ATTACHED,\n",
    "    log_every=100,\n",
    "    print_summary=True,\n",
    "    delete_img=True,\n",
    "):\n",
    "    \"\"\"\n",
    "    Given a list of paths to images, compute saliency statistics of interests of all those images.\n",
    "    \n",
    "    Args:\n",
    "        sample: None if we want to compute all. If a number is given, only do the specified number of samples (without replacement)\n",
    "\n",
    "    Returns:\n",
    "        pandas dataframe with file_path as an index, and the statistics as a column\n",
    "    \"\"\"\n",
    "    start_time = time.time()\n",
    "\n",
    "    if sample is not None:\n",
    "        file_path_list = random.sample(file_path_list, sample)\n",
    "\n",
    "    result_data = {\n",
    "        str(percent) + \"%_tile\": [] for percent in percentile_queries\n",
    "    }  # all columns\n",
    "    result_data[\"path\"] = []  # rows of the data\n",
    "    result_data[\"mean\"] = []\n",
    "\n",
    "    for i, path in enumerate(file_path_list):\n",
    "        attached_img, widths, heights = attach_img(\n",
    "            [path],\n",
    "            fixed_height=fixed_height,\n",
    "            pixel_size_upperbound=pixel_size_upperbound,\n",
    "        )\n",
    "        attached_path = str(save_dir) + \"/\" + str(i) + \".jpg\"\n",
    "        attached_img.save(attached_path)\n",
    "        # try to get salient information. Will get None if fails.\n",
    "        salient_info = get_salient_info(attached_path)\n",
    "        # After getting the info delete the file:\n",
    "        if delete_img:\n",
    "            Path(attached_path).unlink()\n",
    "\n",
    "        salient_scores = [point[2] for point in salient_info[\"all_salient_points\"]]\n",
    "\n",
    "        # put data in\n",
    "        result_data[\"path\"].append(path)\n",
    "        result_data[\"mean\"].append(np.mean(salient_scores))\n",
    "        for percent in percentile_queries:\n",
    "            result_data[str(percent) + \"%_tile\"].append(\n",
    "                np.percentile(salient_scores, percent)\n",
    "            )\n",
    "\n",
    "        if (i + 1) % log_every == 0:\n",
    "            print((i + 1), \"iterations of sampling has been done.\")\n",
    "\n",
    "    time_used = time.time() - start_time\n",
    "    print(\"total time used:\", time_used, \"seconds.\")\n",
    "    print(\"time used per comparison:\", time_used / len(file_path_list), \"seconds.\")\n",
    "\n",
    "    return pd.DataFrame.from_dict(result_data).set_index(\"path\")"
   ]
  },
  {
   "cell_type": "markdown",
   "metadata": {},
   "source": [
    "# Analysis\n",
    "\n",
    "Change the setting and setting name below (for saving purpose), and modify `all_pairs_replicate_ori` as needed."
   ]
  },
  {
   "cell_type": "code",
   "execution_count": 32,
   "metadata": {},
   "outputs": [],
   "source": [
    "# change the setting here\n",
    "NUM_ITERATION = 1000\n",
    "FIXED_HEIGHT = (\n",
    "    256\n",
    ")  # if we want to scale each image to the same fixed height, put a number such as 256 here\n",
    "DIM_BOUND = None\n",
    "# if for large image, we want to scale it down so width and height are no more than a fixed number, e.g. put 1024 here.\n",
    "# if not, very few large images are rejected from sampling as the size is too large for the model to accept\n",
    "SETTING_NAME = \"bmi_female_fixed_height_intersect\"  # for saving results and plots"
   ]
  },
  {
   "cell_type": "code",
   "execution_count": 33,
   "metadata": {},
   "outputs": [],
   "source": [
    "all_race_to_compare = list(grouped_images_dict.keys())\n",
    "all_pairs_replicate_ori = [\n",
    "    (all_race_to_compare[i], all_race_to_compare[j])\n",
    "    for i in range(len(all_race_to_compare))\n",
    "    for j in range(i + 1, len(all_race_to_compare))\n",
    "]"
   ]
  },
  {
   "cell_type": "code",
   "execution_count": 34,
   "metadata": {},
   "outputs": [
    {
     "data": {
      "text/plain": [
       "[('Normal_weight', 'Obese'),\n",
       " ('Normal_weight', 'Overweight'),\n",
       " ('Obese', 'Overweight')]"
      ]
     },
     "execution_count": 34,
     "metadata": {},
     "output_type": "execute_result"
    }
   ],
   "source": [
    "# another way, if we want to flip\n",
    "all_pairs_replicate_ori"
   ]
  },
  {
   "cell_type": "code",
   "execution_count": 35,
   "metadata": {},
   "outputs": [
    {
     "name": "stdout",
     "output_type": "stream",
     "text": [
      "100 / 1000 iterations of sampling has been done.\n",
      "200 / 1000 iterations of sampling has been done.\n",
      "300 / 1000 iterations of sampling has been done.\n",
      "400 / 1000 iterations of sampling has been done.\n",
      "500 / 1000 iterations of sampling has been done.\n",
      "600 / 1000 iterations of sampling has been done.\n",
      "700 / 1000 iterations of sampling has been done.\n",
      "800 / 1000 iterations of sampling has been done.\n",
      "900 / 1000 iterations of sampling has been done.\n",
      "1000 / 1000 iterations of sampling has been done.\n",
      "The groups entered are: ('Normal_weight', 'Obese')\n",
      "The statistic is: [425. 575.]\n",
      "Size of the sample: 1000\n",
      "total time used: 557.4628789424896 seconds.\n",
      "time used per comparison: 0.5574628789424896 seconds.\n",
      "100 / 1000 iterations of sampling has been done.\n",
      "200 / 1000 iterations of sampling has been done.\n",
      "300 / 1000 iterations of sampling has been done.\n",
      "400 / 1000 iterations of sampling has been done.\n",
      "500 / 1000 iterations of sampling has been done.\n",
      "600 / 1000 iterations of sampling has been done.\n",
      "700 / 1000 iterations of sampling has been done.\n",
      "800 / 1000 iterations of sampling has been done.\n",
      "900 / 1000 iterations of sampling has been done.\n",
      "1000 / 1000 iterations of sampling has been done.\n",
      "The groups entered are: ('Normal_weight', 'Overweight')\n",
      "The statistic is: [449. 551.]\n",
      "Size of the sample: 1000\n",
      "total time used: 559.3144197463989 seconds.\n",
      "time used per comparison: 0.559314419746399 seconds.\n",
      "100 / 1000 iterations of sampling has been done.\n",
      "200 / 1000 iterations of sampling has been done.\n",
      "300 / 1000 iterations of sampling has been done.\n",
      "400 / 1000 iterations of sampling has been done.\n",
      "500 / 1000 iterations of sampling has been done.\n",
      "600 / 1000 iterations of sampling has been done.\n",
      "700 / 1000 iterations of sampling has been done.\n",
      "800 / 1000 iterations of sampling has been done.\n",
      "900 / 1000 iterations of sampling has been done.\n",
      "1000 / 1000 iterations of sampling has been done.\n",
      "The groups entered are: ('Obese', 'Overweight')\n",
      "The statistic is: [535. 465.]\n",
      "Size of the sample: 1000\n",
      "total time used: 529.8733732700348 seconds.\n",
      "time used per comparison: 0.5298733732700348 seconds.\n"
     ]
    }
   ],
   "source": [
    "max_salient_compare_dict = {}\n",
    "\n",
    "for pair in all_pairs_replicate_ori:\n",
    "    max_salient_compare_dict[pair] = compute_comparison_from_group_name(\n",
    "        grouped_images_dict,\n",
    "        pair,\n",
    "        num_iterations=NUM_ITERATION,\n",
    "        save_setting=SETTING_NAME,\n",
    "        fixed_height=FIXED_HEIGHT,\n",
    "        pixel_size_upperbound=DIM_BOUND,\n",
    "    )"
   ]
  },
  {
   "cell_type": "code",
   "execution_count": 36,
   "metadata": {},
   "outputs": [],
   "source": [
    "def plot_pairwise_stats(\n",
    "    stat_dict,\n",
    "    figsize=None,\n",
    "    setting_name=\"unknown\",\n",
    "    num_iteration=\"unknown\",\n",
    "    confidence_interval_err=2,\n",
    "    middle_band_width=0.1,\n",
    "    x_label_angle=10,\n",
    "):\n",
    "    \"\"\"\n",
    "  Given a dictionary of pairs of group and comparison statisitcs:\n",
    "  ('group1', 'group2'): [num_group1_is_picked, num_group2_is_picked]\n",
    "  Plot the bar graph on all pairs in this format on the probability p that group1 is picked.\n",
    "  \n",
    "  The std error is assumed to be sqrt(p(1-p)/n), a confidence interval for Bernoulli inference.\n",
    "  The bar graph plot +- 2 std err, giving 95% confidence interval.\n",
    "  \n",
    "  Args:\n",
    "      confidence_interval_err: the width of the confidence interval in the plotsetting_name: the setting of this experiment. Only used for the title of the plot and name of the saved figure\n",
    "      num_iteration: the number of samples used (int or str). Only used for the title of the plot and name of the saved figure\n",
    "      x_label_angle: angle to rotate the x label. May need to increase for lengthy labels.\n",
    "      middle_band_width: add two horizontal lines above and below 0.5 symmetrically to the plot, so creating a band of given width.\n",
    "                    If None, no line is added.\n",
    "  \"\"\"\n",
    "    x_labels = [\n",
    "        \"{}-{}\".format(*pair[0]) + \"\\nhigher than\\n\" + \"{}-{}\".format(*pair[1])\n",
    "        for pair in stat_dict.keys()\n",
    "    ]\n",
    "    prob = [val[0] / (val[0] + val[1]) for val in stat_dict.values()]\n",
    "    total = [(val[0] + val[1]) for val in stat_dict.values()]\n",
    "    y_err = [\n",
    "        confidence_interval_err * math.sqrt(p * (1 - p) / n)\n",
    "        for p, n in zip(prob, total)\n",
    "    ]\n",
    "    fig, ax = plt.subplots(figsize=figsize)\n",
    "    ax.bar(x_labels, prob, yerr=y_err)\n",
    "\n",
    "    if middle_band_width is not None:\n",
    "        ax.axhline(0.5, color=\"r\", label=f\"Demographic Parity\")\n",
    "    plt.xlim(-0.5, len(x_labels) - 0.5)\n",
    "    plt.xticks(rotation=x_label_angle, fontsize=16)\n",
    "    ax.set_ylabel(\"Probability $\\pm$ 2 * error\", fontsize=20)\n",
    "    plt.ylim(0.0, 1.0)\n",
    "    plt.yticks(fontsize=16)\n",
    "    ax.yaxis.grid(True)\n",
    "    plt.legend(fontsize=16)\n",
    "    plt.title(f\"Probabilities with {num_iteration} samples\", fontsize=20)\n",
    "    plt.tight_layout()\n",
    "    plt.savefig(setting_name + \"_n=\" + str(num_iteration) + \".jpg\")"
   ]
  },
  {
   "cell_type": "code",
   "execution_count": 37,
   "metadata": {},
   "outputs": [
    {
     "data": {
      "text/plain": [
       "{('Normal_weight', 'Obese'): array([425., 575.]),\n",
       " ('Normal_weight', 'Overweight'): array([449., 551.]),\n",
       " ('Obese', 'Overweight'): array([535., 465.])}"
      ]
     },
     "execution_count": 37,
     "metadata": {},
     "output_type": "execute_result"
    }
   ],
   "source": [
    "max_salient_compare_dict"
   ]
  },
  {
   "cell_type": "code",
   "execution_count": 38,
   "metadata": {},
   "outputs": [
    {
     "data": {
      "image/png": "[encoded data removed]",
      "text/plain": [
       "<Figure size 864x288 with 1 Axes>"
      ]
     },
     "metadata": {
      "needs_background": "light"
     },
     "output_type": "display_data"
    }
   ],
   "source": [
    "plot_pairwise_stats(\n",
    "    max_salient_compare_dict,\n",
    "    setting_name=SETTING_NAME,\n",
    "    num_iteration=NUM_ITERATION,\n",
    "    figsize=(12, 4),\n",
    "    x_label_angle=0,\n",
    ")"
   ]
  },
  {
   "cell_type": "markdown",
   "metadata": {},
   "source": [
    "## Pairing across all groups at once"
   ]
  },
  {
   "cell_type": "code",
   "execution_count": 42,
   "metadata": {},
   "outputs": [],
   "source": [
    "# change the setting here\n",
    "NUM_ITERATION = 5000\n",
    "FIXED_HEIGHT = (\n",
    "    256\n",
    ")  # if we want to scale each image to the same fixed height, put a number such as 256 here\n",
    "DIM_BOUND = None\n",
    "# if for large image, we want to scale it down so width and height are no more than a fixed number, e.g. put 1024 here.\n",
    "# if not, very few large images are rejected from sampling as the size is too large for the model to accept"
   ]
  },
  {
   "cell_type": "code",
   "execution_count": 43,
   "metadata": {},
   "outputs": [
    {
     "name": "stdout",
     "output_type": "stream",
     "text": [
      "100 / 5000 iterations of sampling has been done.\n",
      "200 / 5000 iterations of sampling has been done.\n",
      "300 / 5000 iterations of sampling has been done.\n",
      "400 / 5000 iterations of sampling has been done.\n",
      "500 / 5000 iterations of sampling has been done.\n",
      "600 / 5000 iterations of sampling has been done.\n",
      "700 / 5000 iterations of sampling has been done.\n",
      "800 / 5000 iterations of sampling has been done.\n",
      "900 / 5000 iterations of sampling has been done.\n",
      "1000 / 5000 iterations of sampling has been done.\n",
      "1100 / 5000 iterations of sampling has been done.\n",
      "1200 / 5000 iterations of sampling has been done.\n",
      "1300 / 5000 iterations of sampling has been done.\n",
      "1400 / 5000 iterations of sampling has been done.\n",
      "1500 / 5000 iterations of sampling has been done.\n",
      "1600 / 5000 iterations of sampling has been done.\n",
      "1700 / 5000 iterations of sampling has been done.\n",
      "1800 / 5000 iterations of sampling has been done.\n",
      "1900 / 5000 iterations of sampling has been done.\n",
      "2000 / 5000 iterations of sampling has been done.\n",
      "2100 / 5000 iterations of sampling has been done.\n",
      "2200 / 5000 iterations of sampling has been done.\n",
      "2300 / 5000 iterations of sampling has been done.\n",
      "2400 / 5000 iterations of sampling has been done.\n",
      "2500 / 5000 iterations of sampling has been done.\n",
      "2600 / 5000 iterations of sampling has been done.\n",
      "2700 / 5000 iterations of sampling has been done.\n",
      "2800 / 5000 iterations of sampling has been done.\n",
      "2900 / 5000 iterations of sampling has been done.\n",
      "3000 / 5000 iterations of sampling has been done.\n",
      "3100 / 5000 iterations of sampling has been done.\n",
      "3200 / 5000 iterations of sampling has been done.\n",
      "3300 / 5000 iterations of sampling has been done.\n",
      "3400 / 5000 iterations of sampling has been done.\n",
      "3500 / 5000 iterations of sampling has been done.\n",
      "3600 / 5000 iterations of sampling has been done.\n",
      "3700 / 5000 iterations of sampling has been done.\n",
      "3800 / 5000 iterations of sampling has been done.\n",
      "3900 / 5000 iterations of sampling has been done.\n",
      "4000 / 5000 iterations of sampling has been done.\n",
      "4100 / 5000 iterations of sampling has been done.\n",
      "4200 / 5000 iterations of sampling has been done.\n",
      "4300 / 5000 iterations of sampling has been done.\n",
      "4400 / 5000 iterations of sampling has been done.\n",
      "4500 / 5000 iterations of sampling has been done.\n",
      "4600 / 5000 iterations of sampling has been done.\n",
      "4700 / 5000 iterations of sampling has been done.\n",
      "4800 / 5000 iterations of sampling has been done.\n",
      "4900 / 5000 iterations of sampling has been done.\n",
      "5000 / 5000 iterations of sampling has been done.\n",
      "The groups entered are: dict_keys(['Normal_weight', 'Obese', 'Overweight'])\n",
      "The statistic is: [1252. 1938. 1810.]\n",
      "Size of the sample: 5000\n",
      "total time used: 2776.756145477295 seconds.\n",
      "time used per comparison: 0.555351229095459 seconds.\n"
     ]
    }
   ],
   "source": [
    "SETTING_NAME = \"bmi_female_no_scaling_intersect_together\"  \n",
    "\n",
    "max_salient_all_groups_stats = compute_comparison_from_group_name(\n",
    "    grouped_images_dict,\n",
    "    grouped_images_dict.keys(),\n",
    "    num_iterations=NUM_ITERATION,\n",
    "    save_setting=SETTING_NAME,\n",
    "    fixed_height=FIXED_HEIGHT,\n",
    "    pixel_size_upperbound=DIM_BOUND,\n",
    ")"
   ]
  },
  {
   "cell_type": "code",
   "execution_count": 44,
   "metadata": {},
   "outputs": [],
   "source": [
    "max_salient_all_groups_dict = {\n",
    "    group: stat\n",
    "    for group, stat in zip(grouped_images_dict.keys(), max_salient_all_groups_stats)\n",
    "}"
   ]
  },
  {
   "cell_type": "code",
   "execution_count": 45,
   "metadata": {},
   "outputs": [],
   "source": [
    "def plot_dict_values(\n",
    "    stat_dict,\n",
    "    figsize=None,\n",
    "    setting_name=\"unknown\",\n",
    "    num_iteration=\"unknown\",\n",
    "    confidence_interval_err=2,\n",
    "    middle_band_width=0.1,\n",
    "    x_label_angle=10,\n",
    "):\n",
    "    x_labels = [\"{}-{}\".format(*group_name) for group_name in stat_dict.keys()]\n",
    "    print(x_labels)\n",
    "    total = sum(stat_dict.values())\n",
    "    print(type(total), type(list(stat_dict.values())))\n",
    "    prob = list(stat_dict.values()) / total\n",
    "    y_err = [confidence_interval_err * math.sqrt(p * (1 - p) / total) for p in prob]\n",
    "\n",
    "    fig, ax = plt.subplots(figsize=figsize)\n",
    "    ax.bar(x_labels, prob, yerr=y_err)\n",
    "\n",
    "    ax.plot(\n",
    "        [-0.5, len(x_labels) - 0.5],\n",
    "        np.full(2, 1 / len(x_labels)),\n",
    "        \"r\",\n",
    "        label=f\"average\",\n",
    "    )\n",
    "\n",
    "    plt.xticks(rotation=x_label_angle, fontsize=16)\n",
    "    ax.set_ylabel(\"Probability $\\pm$ 2 * error\", fontsize=20)\n",
    "    plt.ylim(0.0, 1.0)\n",
    "    ax.yaxis.grid(True)\n",
    "    plt.yticks(fontsize=16)\n",
    "    plt.legend(fontsize=16)\n",
    "    plt.title(f\"Probabilities with {num_iteration} samples\", fontsize=20)\n",
    "    plt.tight_layout()\n",
    "    plt.savefig(setting_name + \"_n=\" + str(num_iteration) + \".jpg\")"
   ]
  },
  {
   "cell_type": "code",
   "execution_count": 46,
   "metadata": {},
   "outputs": [
    {
     "data": {
      "text/plain": [
       "array([1252., 1938., 1810.])"
      ]
     },
     "execution_count": 46,
     "metadata": {},
     "output_type": "execute_result"
    }
   ],
   "source": [
    "max_salient_all_groups_stats"
   ]
  },
  {
   "cell_type": "code",
   "execution_count": 47,
   "metadata": {},
   "outputs": [
    {
     "data": {
      "text/plain": [
       "{'Normal_weight': 1252.0, 'Obese': 1938.0, 'Overweight': 1810.0}"
      ]
     },
     "execution_count": 47,
     "metadata": {},
     "output_type": "execute_result"
    }
   ],
   "source": [
    "max_salient_all_groups_dict"
   ]
  },
  {
   "cell_type": "code",
   "execution_count": 48,
   "metadata": {},
   "outputs": [
    {
     "name": "stdout",
     "output_type": "stream",
     "text": [
      "['N-o', 'O-b', 'O-v']\n",
      "<class 'numpy.float64'> <class 'list'>\n"
     ]
    },
    {
     "data": {
      "image/png": "[encoded data removed]",
      "text/plain": [
       "<Figure size 1224x360 with 1 Axes>"
      ]
     },
     "metadata": {
      "needs_background": "light"
     },
     "output_type": "display_data"
    }
   ],
   "source": [
    "plot_dict_values(\n",
    "    max_salient_all_groups_dict,\n",
    "    setting_name=SETTING_NAME,\n",
    "    num_iteration=NUM_ITERATION,\n",
    "    figsize=(17, 5),\n",
    "    x_label_angle=0,\n",
    ")"
   ]
  },
  {
   "cell_type": "code",
   "execution_count": null,
   "metadata": {},
   "outputs": [],
   "source": []
  },
  {
   "cell_type": "code",
   "execution_count": null,
   "metadata": {},
   "outputs": [],
   "source": []
  },
  {
   "cell_type": "markdown",
   "metadata": {},
   "source": [
    "## Stats of saliency scores"
   ]
  },
  {
   "cell_type": "code",
   "execution_count": 49,
   "metadata": {},
   "outputs": [],
   "source": [
    "# change the setting here\n",
    "NUM_ITERATION = None  # None # None if want to do whole thing\n",
    "FIXED_HEIGHT = (\n",
    "    None\n",
    ")  # if we want to scale each image to the same fixed height, put a number such as 256 here\n",
    "DIM_BOUND = None\n",
    "# if for large image, we want to scale it down so width and height are no more than a fixed number, e.g. put 1024 here.\n",
    "# if not, very few large images are rejected from sampling as the size is too large for the model to accept\n",
    "SETTING_NAME = \"bmi_female_no_scaling_intersect_stat\"  # for saving results and plots"
   ]
  },
  {
   "cell_type": "code",
   "execution_count": 50,
   "metadata": {},
   "outputs": [
    {
     "name": "stdout",
     "output_type": "stream",
     "text": [
      "Computing stats for: Normal_weight\n",
      "100 iterations of sampling has been done.\n",
      "200 iterations of sampling has been done.\n",
      "300 iterations of sampling has been done.\n",
      "400 iterations of sampling has been done.\n",
      "total time used: 234.32437801361084 seconds.\n",
      "time used per comparison: 0.5265716359856424 seconds.\n",
      "Computing stats for: Obese\n",
      "100 iterations of sampling has been done.\n",
      "200 iterations of sampling has been done.\n",
      "300 iterations of sampling has been done.\n",
      "400 iterations of sampling has been done.\n",
      "500 iterations of sampling has been done.\n",
      "600 iterations of sampling has been done.\n",
      "700 iterations of sampling has been done.\n",
      "800 iterations of sampling has been done.\n",
      "900 iterations of sampling has been done.\n",
      "total time used: 471.9259498119354 seconds.\n",
      "time used per comparison: 0.5063583152488578 seconds.\n",
      "Computing stats for: Overweight\n",
      "100 iterations of sampling has been done.\n",
      "200 iterations of sampling has been done.\n",
      "300 iterations of sampling has been done.\n",
      "400 iterations of sampling has been done.\n",
      "500 iterations of sampling has been done.\n",
      "total time used: 262.2244737148285 seconds.\n",
      "time used per comparison: 0.4947631579525066 seconds.\n"
     ]
    }
   ],
   "source": [
    "all_stats_dict = {}\n",
    "for key in grouped_images_dict.keys():\n",
    "    print(\"Computing stats for:\", key)\n",
    "    file_path_list = grouped_images_dict[key].path.values.tolist()\n",
    "    all_stats_dict[key] = compute_saliency_stats(\n",
    "        file_path_list,\n",
    "        sample=NUM_ITERATION,\n",
    "        percentile_queries=[50, 95, 100],\n",
    "        fixed_height=None,\n",
    "        pixel_size_upperbound=None,\n",
    "        save_dir=SAVE_DIR_ATTACHED,\n",
    "        log_every=100,\n",
    "        print_summary=True,\n",
    "    )"
   ]
  },
  {
   "cell_type": "code",
   "execution_count": 51,
   "metadata": {},
   "outputs": [
    {
     "data": {
      "image/png": "[encoded data removed]",
      "text/plain": [
       "<Figure size 432x288 with 1 Axes>"
      ]
     },
     "metadata": {
      "needs_background": "light"
     },
     "output_type": "display_data"
    },
    {
     "data": {
      "image/png": "[encoded data removed]",
      "text/plain": [
       "<Figure size 432x288 with 1 Axes>"
      ]
     },
     "metadata": {
      "needs_background": "light"
     },
     "output_type": "display_data"
    },
    {
     "data": {
      "image/png": "[encoded data removed]",
      "text/plain": [
       "<Figure size 432x288 with 1 Axes>"
      ]
     },
     "metadata": {
      "needs_background": "light"
     },
     "output_type": "display_data"
    },
    {
     "data": {
      "image/png": "[encoded data removed]",
      "text/plain": [
       "<Figure size 432x288 with 1 Axes>"
      ]
     },
     "metadata": {
      "needs_background": "light"
     },
     "output_type": "display_data"
    },
    {
     "data": {
      "text/plain": [
       "<Figure size 432x288 with 0 Axes>"
      ]
     },
     "metadata": {},
     "output_type": "display_data"
    }
   ],
   "source": [
    "group_to_plot = all_stats_dict.keys()\n",
    "for col_name in next(\n",
    "    iter(all_stats_dict.values())\n",
    ").columns:  # columns from any pandas dataframe\n",
    "    for key in group_to_plot:\n",
    "        pandas_data = all_stats_dict[key]\n",
    "        plt.hist(\n",
    "            pandas_data[col_name],\n",
    "            alpha=0.35,\n",
    "            density=True,\n",
    "            label=str(key) + \" on \" + str(col_name),\n",
    "            bins=50,\n",
    "        )\n",
    "    plt.ylabel(\"frequency\")\n",
    "    plt.title(\"Hist of \" + str(group_to_plot) + \" on saliency \" + str(col_name))\n",
    "    plt.legend()\n",
    "    plt.tight_layout()\n",
    "    plt.show()\n",
    "    plt.savefig(SETTING_NAME + \"_n=\" + str(NUM_ITERATION) + \".jpg\")"
   ]
  },
  {
   "cell_type": "code",
   "execution_count": 52,
   "metadata": {},
   "outputs": [],
   "source": [
    "def prob_a_less_than_b(a, b):\n",
    "    \"\"\"\n",
    "    Given two lists a,b, calculate the probability that\n",
    "    random samples x,y from a,b will satisfies a < b\n",
    "    \n",
    "    Clculating this exactly for lists of length n, m takes runtime O(n log n + m log m) (for sorting),\n",
    "    then O(n + m) in addition (without sorting)\n",
    "    \"\"\"\n",
    "    a = sorted(a)\n",
    "    b = sorted(b)\n",
    "\n",
    "    prob = 0\n",
    "    j = 0  # index of b that keeps moving till x > y\n",
    "    for i, x in enumerate(a):\n",
    "        while (j < len(b)) and (x >= b[j]):\n",
    "            j += 1\n",
    "        prob += (len(b) - j) / (len(a) * len(b))\n",
    "\n",
    "    return prob"
   ]
  },
  {
   "cell_type": "code",
   "execution_count": 53,
   "metadata": {},
   "outputs": [
    {
     "name": "stdout",
     "output_type": "stream",
     "text": [
      "Probability that group Normal_weight >= Obese is 0.41984134638568793\n",
      "Probability that group Normal_weight >= Overweight is 0.44532117871528687\n",
      "Probability that group Obese >= Overweight is 0.5269191837395736\n"
     ]
    }
   ],
   "source": [
    "group_list = list(all_stats_dict.keys())\n",
    "for i in range(len(group_list)):\n",
    "    for j in range(i + 1, len(group_list)):\n",
    "        print(\n",
    "            \"Probability that group\",\n",
    "            group_list[i],\n",
    "            \">=\",\n",
    "            group_list[j],\n",
    "            \"is\",\n",
    "            1\n",
    "            - prob_a_less_than_b(\n",
    "                all_stats_dict[group_list[i]][\"100%_tile\"].values,\n",
    "                all_stats_dict[group_list[j]][\"100%_tile\"].values,\n",
    "            ),\n",
    "        )"
   ]
  },
  {
   "cell_type": "code",
   "execution_count": 54,
   "metadata": {},
   "outputs": [
    {
     "name": "stdout",
     "output_type": "stream",
     "text": [
      "Probability that group Normal_weight >= Obese is 0.43477841539277584\n",
      "Probability that group Normal_weight >= Overweight is 0.4791944032223875\n",
      "Probability that group Obese >= Overweight is 0.5436432099765163\n"
     ]
    }
   ],
   "source": [
    "group_list = list(all_stats_dict.keys())\n",
    "for i in range(len(group_list)):\n",
    "    for j in range(i + 1, len(group_list)):\n",
    "        print(\n",
    "            \"Probability that group\",\n",
    "            group_list[i],\n",
    "            \">=\",\n",
    "            group_list[j],\n",
    "            \"is\",\n",
    "            1\n",
    "            - prob_a_less_than_b(\n",
    "                all_stats_dict[group_list[i]][\"95%_tile\"].values,\n",
    "                all_stats_dict[group_list[j]][\"95%_tile\"].values,\n",
    "            ),\n",
    "        )"
   ]
  },
  {
   "cell_type": "code",
   "execution_count": 59,
   "metadata": {},
   "outputs": [],
   "source": [
    "# for (g1, g2, g3), df_t in all_stats_dict.items():\n",
    "#     out_path = f\"./bmi_female_all_stats_dict_{g1}_{g2}_{g3}.tsv\"\n",
    "#     print(out_path)\n",
    "#     df_t.to_csv(out_path, sep=\"\\t\")"
   ]
  },
  {
   "cell_type": "code",
   "execution_count": 60,
   "metadata": {},
   "outputs": [
    {
     "name": "stdout",
     "output_type": "stream",
     "text": [
      "Setting = bmi_female_no_scaling_intersect_stat\n"
     ]
    }
   ],
   "source": [
    "print(f\"Setting = {SETTING_NAME}\")"
   ]
  },
  {
   "cell_type": "code",
   "execution_count": 61,
   "metadata": {},
   "outputs": [],
   "source": [
    "def plot_group_saliency_histogram(\n",
    "    group_to_plot, col_names=None, col_name_title_map=None, file_id=None, **hist_kwargs\n",
    "):\n",
    "    if col_names is None:\n",
    "        col_names = [\"50%_tile\", \"95%_tile\", \"100%_tile\", \"mean\"]\n",
    "    if col_name_title_map is None:\n",
    "        col_name_title_map = {\"50%_tile\": \"median\", \"100%_tile\": \"max\"}\n",
    "    for col_name in col_names:  # columns from any pandas dataframe\n",
    "        plt_title = col_name_title_map.get(col_name, col_name)\n",
    "        fig = plt.figure(figsize=(5, 2))\n",
    "        for key in group_to_plot:\n",
    "            g1, g2 = key\n",
    "            out_path = f\"./fairface_all_stats_dict_{g1}_{g2}.tsv\"\n",
    "            pandas_data = pd.read_csv(out_path, sep=\"\\t\", index_col=0)\n",
    "            plt.hist(pandas_data[col_name], label=f\"{g1}-{g2}\", **hist_kwargs)\n",
    "        plt.ylabel(\"frequency\")\n",
    "        plt.title(f\"Distribution of {plt_title} saliency\")\n",
    "        plt.legend(loc=\"upper left\")\n",
    "        plt.tight_layout()\n",
    "        plt.savefig(f\"bmi_female_saliency_dist_gender_dif_on_{file_id}_{plt_title}.png\")\n",
    "        plt.show()"
   ]
  },
  {
   "cell_type": "code",
   "execution_count": 63,
   "metadata": {},
   "outputs": [],
   "source": [
    "# group_to_plot = all_stats_dict.keys()  # all_stats_dict.keys()\n",
    "# plot_group_saliency_histogram(\n",
    "#     group_to_plot,\n",
    "#     file_id=\"black\",\n",
    "#     bins=50,\n",
    "#     alpha=0.5,\n",
    "#     density=True,\n",
    "#     lw=5,\n",
    "#     cumulative=True,\n",
    "#     histtype=\"step\",\n",
    "# )"
   ]
  },
  {
   "cell_type": "code",
   "execution_count": null,
   "metadata": {},
   "outputs": [],
   "source": []
  },
  {
   "cell_type": "markdown",
   "metadata": {},
   "source": [
    "# Men"
   ]
  },
  {
   "cell_type": "code",
   "execution_count": 64,
   "metadata": {},
   "outputs": [],
   "source": [
    "df = df_main[df_main[\"gender\"] == \"Male\"]"
   ]
  },
  {
   "cell_type": "code",
   "execution_count": 65,
   "metadata": {},
   "outputs": [],
   "source": [
    "full_file_paths = df['path'].values"
   ]
  },
  {
   "cell_type": "code",
   "execution_count": 66,
   "metadata": {},
   "outputs": [
    {
     "name": "stdout",
     "output_type": "stream",
     "text": [
      "top body type group by size:\n",
      " body_type\n",
      "Obese            1643\n",
      "Overweight       1292\n",
      "Normal_weight     935\n",
      "Underweight        38\n",
      "dtype: int64\n"
     ]
    }
   ],
   "source": [
    "BODYTYPE_SIZE_THRESHOLD = 40\n",
    "bodytype_size_pandas = df.groupby(\"body_type\").size()\n",
    "print(\n",
    "    \"top body type group by size:\\n\", bodytype_size_pandas.sort_values(ascending=False)[:20]\n",
    ")\n",
    "bodytype_big_enough = bodytype_size_pandas[\n",
    "    bodytype_size_pandas.values >= BODYTYPE_SIZE_THRESHOLD\n",
    "].index.values"
   ]
  },
  {
   "cell_type": "code",
   "execution_count": 67,
   "metadata": {},
   "outputs": [
    {
     "name": "stdout",
     "output_type": "stream",
     "text": [
      "Normal_weight\n",
      "Size of the group: 935\n",
      "Obese\n",
      "Size of the group: 1643\n",
      "Overweight\n",
      "Size of the group: 1292\n",
      "Underweight\n",
      "Size of the group: 38\n",
      "\tSize is smaller than 100 . Skip this group.\n"
     ]
    }
   ],
   "source": [
    "# choose your option here\n",
    "grouped_images_dict = get_grouped_images(\n",
    "    df, by_columns=[\"body_type\"]\n",
    ")"
   ]
  },
  {
   "cell_type": "code",
   "execution_count": 68,
   "metadata": {},
   "outputs": [
    {
     "data": {
      "text/plain": [
       "dict_keys(['Normal_weight', 'Obese', 'Overweight'])"
      ]
     },
     "execution_count": 68,
     "metadata": {},
     "output_type": "execute_result"
    }
   ],
   "source": [
    "grouped_images_dict.keys()"
   ]
  },
  {
   "cell_type": "code",
   "execution_count": 70,
   "metadata": {},
   "outputs": [
    {
     "data": {
      "text/plain": [
       "0.735404404875"
      ]
     },
     "execution_count": 70,
     "metadata": {},
     "output_type": "execute_result"
    }
   ],
   "source": [
    "salient_scores = [\n",
    "    point[2] for point in get_salient_info(full_file_paths[3])[\"all_salient_points\"]\n",
    "]\n",
    "np.percentile(salient_scores, 100)\n",
    "np.mean(salient_scores)"
   ]
  },
  {
   "cell_type": "code",
   "execution_count": 71,
   "metadata": {},
   "outputs": [
    {
     "data": {
      "text/plain": [
       "True"
      ]
     },
     "execution_count": 71,
     "metadata": {},
     "output_type": "execute_result"
    }
   ],
   "source": [
    "SAVE_DIR_ATTACHED = data_dir / \"./attached\"\n",
    "if not os.path.isdir(SAVE_DIR_ATTACHED):\n",
    "    os.mkdir(SAVE_DIR_ATTACHED)\n",
    "os.path.isdir(SAVE_DIR_ATTACHED)"
   ]
  },
  {
   "cell_type": "code",
   "execution_count": 72,
   "metadata": {},
   "outputs": [
    {
     "data": {
      "text/plain": [
       "True"
      ]
     },
     "execution_count": 72,
     "metadata": {},
     "output_type": "execute_result"
    }
   ],
   "source": [
    "RESULT_FILE_PATH = data_dir / \"./bmi_male_results.txt\"\n",
    "if not os.path.isfile(RESULT_FILE_PATH):\n",
    "    # Creates a new file\n",
    "    with open(RESULT_FILE_PATH, \"a\") as fp:\n",
    "        pass\n",
    "os.path.isfile(RESULT_FILE_PATH)"
   ]
  },
  {
   "cell_type": "code",
   "execution_count": 73,
   "metadata": {},
   "outputs": [],
   "source": [
    "SAVE_DIR_ATTACHED = data_dir / \"./attached\"\n",
    "if not os.path.isdir(SAVE_DIR_ATTACHED):\n",
    "    os.mkdir(SAVE_DIR_ATTACHED)"
   ]
  },
  {
   "cell_type": "code",
   "execution_count": 74,
   "metadata": {},
   "outputs": [],
   "source": [
    "# change the setting here\n",
    "NUM_ITERATION = 1000\n",
    "FIXED_HEIGHT = (\n",
    "    256\n",
    ")  # if we want to scale each image to the same fixed height, put a number such as 256 here\n",
    "DIM_BOUND = None\n",
    "# if for large image, we want to scale it down so width and height are no more than a fixed number, e.g. put 1024 here.\n",
    "# if not, very few large images are rejected from sampling as the size is too large for the model to accept\n",
    "SETTING_NAME = \"bmi_male_fixed_height_intersect\"  # for saving results and plots"
   ]
  },
  {
   "cell_type": "code",
   "execution_count": 75,
   "metadata": {},
   "outputs": [],
   "source": [
    "all_race_to_compare = list(grouped_images_dict.keys())\n",
    "all_pairs_replicate_ori = [\n",
    "    (all_race_to_compare[i], all_race_to_compare[j])\n",
    "    for i in range(len(all_race_to_compare))\n",
    "    for j in range(i + 1, len(all_race_to_compare))\n",
    "]"
   ]
  },
  {
   "cell_type": "code",
   "execution_count": 76,
   "metadata": {},
   "outputs": [
    {
     "data": {
      "text/plain": [
       "[('Normal_weight', 'Obese'),\n",
       " ('Normal_weight', 'Overweight'),\n",
       " ('Obese', 'Overweight')]"
      ]
     },
     "execution_count": 76,
     "metadata": {},
     "output_type": "execute_result"
    }
   ],
   "source": [
    "# another way, if we want to flip\n",
    "all_pairs_replicate_ori"
   ]
  },
  {
   "cell_type": "code",
   "execution_count": 79,
   "metadata": {},
   "outputs": [
    {
     "name": "stdout",
     "output_type": "stream",
     "text": [
      "100 / 1000 iterations of sampling has been done.\n",
      "200 / 1000 iterations of sampling has been done.\n",
      "300 / 1000 iterations of sampling has been done.\n",
      "400 / 1000 iterations of sampling has been done.\n",
      "500 / 1000 iterations of sampling has been done.\n",
      "600 / 1000 iterations of sampling has been done.\n",
      "700 / 1000 iterations of sampling has been done.\n",
      "800 / 1000 iterations of sampling has been done.\n",
      "900 / 1000 iterations of sampling has been done.\n",
      "1000 / 1000 iterations of sampling has been done.\n",
      "The groups entered are: ('Normal_weight', 'Obese')\n",
      "The statistic is: [505. 495.]\n",
      "Size of the sample: 1000\n",
      "total time used: 665.2213170528412 seconds.\n",
      "time used per comparison: 0.6652213170528412 seconds.\n",
      "100 / 1000 iterations of sampling has been done.\n",
      "200 / 1000 iterations of sampling has been done.\n",
      "300 / 1000 iterations of sampling has been done.\n",
      "400 / 1000 iterations of sampling has been done.\n",
      "500 / 1000 iterations of sampling has been done.\n",
      "600 / 1000 iterations of sampling has been done.\n",
      "700 / 1000 iterations of sampling has been done.\n",
      "800 / 1000 iterations of sampling has been done.\n",
      "900 / 1000 iterations of sampling has been done.\n",
      "1000 / 1000 iterations of sampling has been done.\n",
      "The groups entered are: ('Normal_weight', 'Overweight')\n",
      "The statistic is: [526. 474.]\n",
      "Size of the sample: 1000\n",
      "total time used: 645.065437078476 seconds.\n",
      "time used per comparison: 0.645065437078476 seconds.\n",
      "100 / 1000 iterations of sampling has been done.\n",
      "200 / 1000 iterations of sampling has been done.\n",
      "300 / 1000 iterations of sampling has been done.\n",
      "400 / 1000 iterations of sampling has been done.\n",
      "500 / 1000 iterations of sampling has been done.\n",
      "600 / 1000 iterations of sampling has been done.\n",
      "700 / 1000 iterations of sampling has been done.\n",
      "800 / 1000 iterations of sampling has been done.\n",
      "900 / 1000 iterations of sampling has been done.\n",
      "1000 / 1000 iterations of sampling has been done.\n",
      "The groups entered are: ('Obese', 'Overweight')\n",
      "The statistic is: [481. 519.]\n",
      "Size of the sample: 1000\n",
      "total time used: 654.902738571167 seconds.\n",
      "time used per comparison: 0.654902738571167 seconds.\n"
     ]
    }
   ],
   "source": [
    "max_salient_compare_dict = {}\n",
    "\n",
    "for pair in all_pairs_replicate_ori:\n",
    "    max_salient_compare_dict[pair] = compute_comparison_from_group_name(\n",
    "        grouped_images_dict,\n",
    "        pair,\n",
    "        num_iterations=NUM_ITERATION,\n",
    "        save_setting=SETTING_NAME,\n",
    "        fixed_height=FIXED_HEIGHT,\n",
    "        pixel_size_upperbound=DIM_BOUND,\n",
    "    )"
   ]
  },
  {
   "cell_type": "code",
   "execution_count": 80,
   "metadata": {},
   "outputs": [
    {
     "data": {
      "text/plain": [
       "{('Normal_weight', 'Obese'): array([505., 495.]),\n",
       " ('Normal_weight', 'Overweight'): array([526., 474.]),\n",
       " ('Obese', 'Overweight'): array([481., 519.])}"
      ]
     },
     "execution_count": 80,
     "metadata": {},
     "output_type": "execute_result"
    }
   ],
   "source": [
    "max_salient_compare_dict"
   ]
  },
  {
   "cell_type": "code",
   "execution_count": 81,
   "metadata": {},
   "outputs": [
    {
     "data": {
      "image/png": "[encoded data removed]",
      "text/plain": [
       "<Figure size 864x288 with 1 Axes>"
      ]
     },
     "metadata": {
      "needs_background": "light"
     },
     "output_type": "display_data"
    }
   ],
   "source": [
    "plot_pairwise_stats(\n",
    "    max_salient_compare_dict,\n",
    "    setting_name=SETTING_NAME,\n",
    "    num_iteration=NUM_ITERATION,\n",
    "    figsize=(12, 4),\n",
    "    x_label_angle=0,\n",
    ")"
   ]
  },
  {
   "cell_type": "code",
   "execution_count": null,
   "metadata": {},
   "outputs": [],
   "source": []
  },
  {
   "cell_type": "code",
   "execution_count": 82,
   "metadata": {},
   "outputs": [],
   "source": [
    "# change the setting here\n",
    "NUM_ITERATION = 5000\n",
    "FIXED_HEIGHT = (\n",
    "    None\n",
    ")  # if we want to scale each image to the same fixed height, put a number such as 256 here\n",
    "DIM_BOUND = None\n",
    "# if for large image, we want to scale it down so width and height are no more than a fixed number, e.g. put 1024 here.\n",
    "# if not, very few large images are rejected from sampling as the size is too large for the model to accept"
   ]
  },
  {
   "cell_type": "code",
   "execution_count": 83,
   "metadata": {},
   "outputs": [
    {
     "name": "stdout",
     "output_type": "stream",
     "text": [
      "100 / 5000 iterations of sampling has been done.\n",
      "200 / 5000 iterations of sampling has been done.\n",
      "300 / 5000 iterations of sampling has been done.\n",
      "Warning: salient point is located at the background from attaching images, outside of original.\n",
      "400 / 5000 iterations of sampling has been done.\n",
      "500 / 5000 iterations of sampling has been done.\n",
      "600 / 5000 iterations of sampling has been done.\n",
      "700 / 5000 iterations of sampling has been done.\n",
      "800 / 5000 iterations of sampling has been done.\n",
      "900 / 5000 iterations of sampling has been done.\n",
      "1000 / 5000 iterations of sampling has been done.\n",
      "1100 / 5000 iterations of sampling has been done.\n",
      "1200 / 5000 iterations of sampling has been done.\n",
      "1300 / 5000 iterations of sampling has been done.\n",
      "1400 / 5000 iterations of sampling has been done.\n",
      "1500 / 5000 iterations of sampling has been done.\n",
      "1600 / 5000 iterations of sampling has been done.\n",
      "1700 / 5000 iterations of sampling has been done.\n",
      "1800 / 5000 iterations of sampling has been done.\n",
      "1900 / 5000 iterations of sampling has been done.\n",
      "2000 / 5000 iterations of sampling has been done.\n",
      "2100 / 5000 iterations of sampling has been done.\n",
      "2200 / 5000 iterations of sampling has been done.\n",
      "2300 / 5000 iterations of sampling has been done.\n",
      "2400 / 5000 iterations of sampling has been done.\n",
      "2500 / 5000 iterations of sampling has been done.\n",
      "2600 / 5000 iterations of sampling has been done.\n",
      "2700 / 5000 iterations of sampling has been done.\n",
      "2800 / 5000 iterations of sampling has been done.\n",
      "2900 / 5000 iterations of sampling has been done.\n",
      "3000 / 5000 iterations of sampling has been done.\n",
      "3100 / 5000 iterations of sampling has been done.\n",
      "3200 / 5000 iterations of sampling has been done.\n",
      "Warning: salient point is located at the background from attaching images, outside of original.\n",
      "3300 / 5000 iterations of sampling has been done.\n",
      "3400 / 5000 iterations of sampling has been done.\n",
      "3500 / 5000 iterations of sampling has been done.\n",
      "3600 / 5000 iterations of sampling has been done.\n",
      "3700 / 5000 iterations of sampling has been done.\n",
      "3800 / 5000 iterations of sampling has been done.\n",
      "3900 / 5000 iterations of sampling has been done.\n",
      "4000 / 5000 iterations of sampling has been done.\n",
      "4100 / 5000 iterations of sampling has been done.\n",
      "4200 / 5000 iterations of sampling has been done.\n",
      "4300 / 5000 iterations of sampling has been done.\n",
      "4400 / 5000 iterations of sampling has been done.\n",
      "4500 / 5000 iterations of sampling has been done.\n",
      "4600 / 5000 iterations of sampling has been done.\n",
      "4700 / 5000 iterations of sampling has been done.\n",
      "4800 / 5000 iterations of sampling has been done.\n",
      "4900 / 5000 iterations of sampling has been done.\n",
      "5000 / 5000 iterations of sampling has been done.\n",
      "The groups entered are: dict_keys(['Normal_weight', 'Obese', 'Overweight'])\n",
      "The statistic is: [1859. 1363. 1778.]\n",
      "Size of the sample: 5000\n",
      "total time used: 4968.212057828903 seconds.\n",
      "time used per comparison: 0.9936424115657806 seconds.\n"
     ]
    }
   ],
   "source": [
    "SETTING_NAME = \"bmi_male_no_scaling_intersect_together\"  \n",
    "\n",
    "max_salient_all_groups_stats = compute_comparison_from_group_name(\n",
    "    grouped_images_dict,\n",
    "    grouped_images_dict.keys(),\n",
    "    num_iterations=NUM_ITERATION,\n",
    "    save_setting=SETTING_NAME,\n",
    "    fixed_height=FIXED_HEIGHT,\n",
    "    pixel_size_upperbound=DIM_BOUND,\n",
    ")"
   ]
  },
  {
   "cell_type": "code",
   "execution_count": 84,
   "metadata": {},
   "outputs": [],
   "source": [
    "max_salient_all_groups_dict = {\n",
    "    group: stat\n",
    "    for group, stat in zip(grouped_images_dict.keys(), max_salient_all_groups_stats)\n",
    "}"
   ]
  },
  {
   "cell_type": "code",
   "execution_count": 85,
   "metadata": {},
   "outputs": [
    {
     "data": {
      "text/plain": [
       "array([1859., 1363., 1778.])"
      ]
     },
     "execution_count": 85,
     "metadata": {},
     "output_type": "execute_result"
    }
   ],
   "source": [
    "max_salient_all_groups_stats"
   ]
  },
  {
   "cell_type": "code",
   "execution_count": 86,
   "metadata": {},
   "outputs": [
    {
     "data": {
      "text/plain": [
       "{'Normal_weight': 1859.0, 'Obese': 1363.0, 'Overweight': 1778.0}"
      ]
     },
     "execution_count": 86,
     "metadata": {},
     "output_type": "execute_result"
    }
   ],
   "source": [
    "max_salient_all_groups_dict"
   ]
  },
  {
   "cell_type": "code",
   "execution_count": 87,
   "metadata": {},
   "outputs": [
    {
     "name": "stdout",
     "output_type": "stream",
     "text": [
      "['N-o', 'O-b', 'O-v']\n",
      "<class 'numpy.float64'> <class 'list'>\n"
     ]
    },
    {
     "data": {
      "image/png": "[encoded data removed]",
      "text/plain": [
       "<Figure size 1224x360 with 1 Axes>"
      ]
     },
     "metadata": {
      "needs_background": "light"
     },
     "output_type": "display_data"
    }
   ],
   "source": [
    "plot_dict_values(\n",
    "    max_salient_all_groups_dict,\n",
    "    setting_name=SETTING_NAME,\n",
    "    num_iteration=NUM_ITERATION,\n",
    "    figsize=(17, 5),\n",
    "    x_label_angle=0,\n",
    ")"
   ]
  },
  {
   "cell_type": "code",
   "execution_count": 88,
   "metadata": {},
   "outputs": [],
   "source": [
    "# change the setting here\n",
    "NUM_ITERATION = None # None if want to do whole thing\n",
    "FIXED_HEIGHT = (\n",
    "    None\n",
    ")  # if we want to scale each image to the same fixed height, put a number such as 256 here\n",
    "DIM_BOUND = None\n",
    "# if for large image, we want to scale it down so width and height are no more than a fixed number, e.g. put 1024 here.\n",
    "# if not, very few large images are rejected from sampling as the size is too large for the model to accept\n",
    "SETTING_NAME = \"bmi_male_no_scaling_intersect_stat\"  # for saving results and plots"
   ]
  },
  {
   "cell_type": "code",
   "execution_count": 89,
   "metadata": {},
   "outputs": [
    {
     "name": "stdout",
     "output_type": "stream",
     "text": [
      "Computing stats for: Normal_weight\n",
      "100 iterations of sampling has been done.\n",
      "200 iterations of sampling has been done.\n",
      "300 iterations of sampling has been done.\n",
      "400 iterations of sampling has been done.\n",
      "500 iterations of sampling has been done.\n",
      "600 iterations of sampling has been done.\n",
      "700 iterations of sampling has been done.\n",
      "800 iterations of sampling has been done.\n",
      "900 iterations of sampling has been done.\n",
      "total time used: 557.6703169345856 seconds.\n",
      "time used per comparison: 0.596438841641268 seconds.\n",
      "Computing stats for: Obese\n",
      "100 iterations of sampling has been done.\n",
      "200 iterations of sampling has been done.\n",
      "300 iterations of sampling has been done.\n",
      "400 iterations of sampling has been done.\n",
      "500 iterations of sampling has been done.\n",
      "600 iterations of sampling has been done.\n",
      "700 iterations of sampling has been done.\n",
      "800 iterations of sampling has been done.\n",
      "900 iterations of sampling has been done.\n",
      "1000 iterations of sampling has been done.\n",
      "1100 iterations of sampling has been done.\n",
      "1200 iterations of sampling has been done.\n",
      "1300 iterations of sampling has been done.\n",
      "1400 iterations of sampling has been done.\n",
      "1500 iterations of sampling has been done.\n",
      "1600 iterations of sampling has been done.\n",
      "total time used: 1021.3209407329559 seconds.\n",
      "time used per comparison: 0.621619562223345 seconds.\n",
      "Computing stats for: Overweight\n",
      "100 iterations of sampling has been done.\n",
      "200 iterations of sampling has been done.\n",
      "300 iterations of sampling has been done.\n",
      "400 iterations of sampling has been done.\n",
      "500 iterations of sampling has been done.\n",
      "600 iterations of sampling has been done.\n",
      "700 iterations of sampling has been done.\n",
      "800 iterations of sampling has been done.\n",
      "900 iterations of sampling has been done.\n",
      "1000 iterations of sampling has been done.\n",
      "1100 iterations of sampling has been done.\n",
      "1200 iterations of sampling has been done.\n",
      "total time used: 873.6210231781006 seconds.\n",
      "time used per comparison: 0.6761772625217497 seconds.\n"
     ]
    }
   ],
   "source": [
    "all_stats_dict = {}\n",
    "for key in grouped_images_dict.keys():\n",
    "    print(\"Computing stats for:\", key)\n",
    "    file_path_list = grouped_images_dict[key].path.values.tolist()\n",
    "    all_stats_dict[key] = compute_saliency_stats(\n",
    "        file_path_list,\n",
    "        sample=NUM_ITERATION,\n",
    "        percentile_queries=[50, 95, 100],\n",
    "        fixed_height=None,\n",
    "        pixel_size_upperbound=None,\n",
    "        save_dir=SAVE_DIR_ATTACHED,\n",
    "        log_every=100,\n",
    "        print_summary=True,\n",
    "    )"
   ]
  },
  {
   "cell_type": "code",
   "execution_count": 90,
   "metadata": {},
   "outputs": [
    {
     "data": {
      "image/png": "[encoded data removed]",
      "text/plain": [
       "<Figure size 432x288 with 1 Axes>"
      ]
     },
     "metadata": {
      "needs_background": "light"
     },
     "output_type": "display_data"
    },
    {
     "data": {
      "image/png": "[encoded data removed]",
      "text/plain": [
       "<Figure size 432x288 with 1 Axes>"
      ]
     },
     "metadata": {
      "needs_background": "light"
     },
     "output_type": "display_data"
    },
    {
     "data": {
      "image/png": "[encoded data removed]",
      "text/plain": [
       "<Figure size 432x288 with 1 Axes>"
      ]
     },
     "metadata": {
      "needs_background": "light"
     },
     "output_type": "display_data"
    },
    {
     "data": {
      "image/png": "[encoded data removed]",
      "text/plain": [
       "<Figure size 432x288 with 1 Axes>"
      ]
     },
     "metadata": {
      "needs_background": "light"
     },
     "output_type": "display_data"
    },
    {
     "data": {
      "text/plain": [
       "<Figure size 432x288 with 0 Axes>"
      ]
     },
     "metadata": {},
     "output_type": "display_data"
    }
   ],
   "source": [
    "group_to_plot = all_stats_dict.keys()\n",
    "for col_name in next(\n",
    "    iter(all_stats_dict.values())\n",
    ").columns:  # columns from any pandas dataframe\n",
    "    for key in group_to_plot:\n",
    "        pandas_data = all_stats_dict[key]\n",
    "        plt.hist(\n",
    "            pandas_data[col_name],\n",
    "            alpha=0.35,\n",
    "            density=True,\n",
    "            label=str(key) + \" on \" + str(col_name),\n",
    "            bins=50,\n",
    "        )\n",
    "    plt.ylabel(\"frequency\")\n",
    "    plt.title(\"Hist of \" + str(group_to_plot) + \" on saliency \" + str(col_name))\n",
    "    plt.legend()\n",
    "    plt.tight_layout()\n",
    "    plt.show()\n",
    "    plt.savefig(SETTING_NAME + \"_n=\" + str(NUM_ITERATION) + \".jpg\")"
   ]
  },
  {
   "cell_type": "code",
   "execution_count": 91,
   "metadata": {},
   "outputs": [
    {
     "name": "stdout",
     "output_type": "stream",
     "text": [
      "Probability that group Normal_weight >= Obese is 0.5311602292662763\n",
      "Probability that group Normal_weight >= Overweight is 0.5278033476266953\n",
      "Probability that group Obese >= Overweight is 0.4959514894787722\n"
     ]
    }
   ],
   "source": [
    "group_list = list(all_stats_dict.keys())\n",
    "for i in range(len(group_list)):\n",
    "    for j in range(i + 1, len(group_list)):\n",
    "        print(\n",
    "            \"Probability that group\",\n",
    "            group_list[i],\n",
    "            \">=\",\n",
    "            group_list[j],\n",
    "            \"is\",\n",
    "            1\n",
    "            - prob_a_less_than_b(\n",
    "                all_stats_dict[group_list[i]][\"100%_tile\"].values,\n",
    "                all_stats_dict[group_list[j]][\"100%_tile\"].values,\n",
    "            ),\n",
    "        )"
   ]
  },
  {
   "cell_type": "code",
   "execution_count": 92,
   "metadata": {},
   "outputs": [
    {
     "name": "stdout",
     "output_type": "stream",
     "text": [
      "Probability that group Normal_weight >= Obese is 0.5095732665887687\n",
      "Probability that group Normal_weight >= Overweight is 0.5171056770583271\n",
      "Probability that group Obese >= Overweight is 0.5060803031530707\n"
     ]
    }
   ],
   "source": [
    "group_list = list(all_stats_dict.keys())\n",
    "for i in range(len(group_list)):\n",
    "    for j in range(i + 1, len(group_list)):\n",
    "        print(\n",
    "            \"Probability that group\",\n",
    "            group_list[i],\n",
    "            \">=\",\n",
    "            group_list[j],\n",
    "            \"is\",\n",
    "            1\n",
    "            - prob_a_less_than_b(\n",
    "                all_stats_dict[group_list[i]][\"95%_tile\"].values,\n",
    "                all_stats_dict[group_list[j]][\"95%_tile\"].values,\n",
    "            ),\n",
    "        )"
   ]
  },
  {
   "cell_type": "code",
   "execution_count": null,
   "metadata": {},
   "outputs": [],
   "source": []
  }
 ],
 "metadata": {
  "kernelspec": {
   "display_name": "Python 3",
   "language": "python",
   "name": "python3"
  },
  "language_info": {
   "codemirror_mode": {
    "name": "ipython",
    "version": 3
   },
   "file_extension": ".py",
   "mimetype": "text/x-python",
   "name": "python",
   "nbconvert_exporter": "python",
   "pygments_lexer": "ipython3",
   "version": "3.9.6"
  },
  "mldash_entity": {
   "created_at_millis": 1620093916544,
   "hash": "1ff3a46963607b08a592e3062b9a0249f75a94ef",
   "inferred_pdp_safe": false,
   "is_vfs_dir": false,
   "marked_pdp_safe": false,
   "owner": "smishra",
   "shared_to_everyone": false,
   "shared_to_ldap_groups": [],
   "shared_to_ldap_users": [],
   "size": 73367,
   "tags": [],
   "uuid": "1389400705069326339",
   "vfs_path": "/user/smishra/notebooks/ImageCrop/Demographic Bias Analysis.ipynb"
  }
 },
 "nbformat": 4,
 "nbformat_minor": 4
}
