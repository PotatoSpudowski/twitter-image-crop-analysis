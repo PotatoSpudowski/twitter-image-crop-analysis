{
 "cells": [
  {
   "cell_type": "markdown",
   "metadata": {},
   "source": [
    "```\n",
    "Copyright 2021 Twitter, Inc.\n",
    "SPDX-License-Identifier: Apache-2.0\n",
    "```\n",
    "\n",
    "## Collect analysis data from Wikidata\n",
    "\n",
    "Save the output of the query run on https://query.wikidata.org/ as described in the paper with the name `dataset.json`"
   ]
  },
  {
   "cell_type": "code",
   "execution_count": 1,
   "metadata": {},
   "outputs": [],
   "source": [
    "import sys\n",
    "import json\n",
    "from pathlib import Path\n",
    "import pandas as pd"
   ]
  },
  {
   "cell_type": "code",
   "execution_count": 2,
   "metadata": {},
   "outputs": [
    {
     "data": {
      "text/plain": [
       "True"
      ]
     },
     "execution_count": 2,
     "metadata": {},
     "output_type": "execute_result"
    }
   ],
   "source": [
    "HOME_DIR = Path(\"../\").expanduser()\n",
    "sys.path.append(str(HOME_DIR / \"src\"))\n",
    "data_dir = HOME_DIR / Path(\"./data/\")\n",
    "data_dir.exists()"
   ]
  },
  {
   "cell_type": "code",
   "execution_count": 3,
   "metadata": {},
   "outputs": [
    {
     "data": {
      "text/plain": [
       "1"
      ]
     },
     "execution_count": 3,
     "metadata": {},
     "output_type": "execute_result"
    }
   ],
   "source": [
    "with open(data_dir / \"./dataset.json\") as fp:\n",
    "    wikidata_data = json.load(fp)\n",
    "\n",
    "len(wikidata_data[\"results\"][\"bindings\"])"
   ]
  },
  {
   "cell_type": "code",
   "execution_count": 4,
   "metadata": {},
   "outputs": [
    {
     "data": {
      "text/plain": [
       "{'human': {'type': 'uri', 'value': 'http://www.wikidata.org/entity/Q335552'},\n",
       " 'image': {'type': 'uri',\n",
       "  'value': 'http://commons.wikimedia.org/wiki/Special:FilePath/Jack_Dorsey_2014.jpg'},\n",
       " 'sex_or_gender': {'type': 'uri',\n",
       "  'value': 'http://www.wikidata.org/entity/Q6581097'},\n",
       " 'ethnic_group': {'type': 'uri',\n",
       "  'value': 'http://www.wikidata.org/entity/Q1075293'},\n",
       " 'occupation': {'type': 'uri',\n",
       "  'value': 'http://www.wikidata.org/entity/Q131524'},\n",
       " 'loc_aid': {'type': 'literal', 'value': 'n2011042258'},\n",
       " 'url': 'http://commons.wikimedia.org/wiki/Special:FilePath/Jack_Dorsey_2014.jpg'}"
      ]
     },
     "execution_count": 4,
     "metadata": {},
     "output_type": "execute_result"
    }
   ],
   "source": [
    "wikidata_data[\"results\"][\"bindings\"][0]"
   ]
  },
  {
   "cell_type": "code",
   "execution_count": 5,
   "metadata": {},
   "outputs": [
    {
     "data": {
      "text/plain": [
       "dict_keys(['bindings'])"
      ]
     },
     "execution_count": 5,
     "metadata": {},
     "output_type": "execute_result"
    }
   ],
   "source": [
    "wikidata_data[\"results\"].keys()"
   ]
  },
  {
   "cell_type": "code",
   "execution_count": 6,
   "metadata": {},
   "outputs": [
    {
     "data": {
      "text/plain": [
       "dict_keys(['human', 'image', 'sex_or_gender', 'ethnic_group', 'occupation', 'loc_aid', 'url'])"
      ]
     },
     "execution_count": 6,
     "metadata": {},
     "output_type": "execute_result"
    }
   ],
   "source": [
    "wikidata_data[\"results\"][\"bindings\"][0].keys()"
   ]
  },
  {
   "cell_type": "code",
   "execution_count": 7,
   "metadata": {},
   "outputs": [
    {
     "data": {
      "text/plain": [
       "['http://www.wikidata.org/entity', 'Q335552']"
      ]
     },
     "execution_count": 7,
     "metadata": {},
     "output_type": "execute_result"
    }
   ],
   "source": [
    "wikidata_data[\"results\"][\"bindings\"][0][\"human\"][\"value\"].rsplit(\"/\", 1)"
   ]
  },
  {
   "cell_type": "code",
   "execution_count": null,
   "metadata": {},
   "outputs": [],
   "source": [
    "REQUIRED_COLS = [\n",
    "    \"human\",\n",
    "    \"image\",\n",
    "    \"sex_or_gender\",\n",
    "    \"ethnic_group\",\n",
    "    \"occupation\",\n",
    "    \"loc_aid\",\n",
    "]\n",
    "\n",
    "\n",
    "def parse_row(row):\n",
    "    data = {}\n",
    "    for c in REQUIRED_COLS:\n",
    "        value = row[c][\"value\"]\n",
    "        if row[c][\"type\"] == \"uri\":\n",
    "            value = value.rsplit(\"/\", 1)[-1]\n",
    "        data[c] = value\n",
    "    url = row[\"url\"]\n",
    "    extension = Path(url.rsplit(\"/\", 1)[-1]).suffix\n",
    "    local_path = f\"{data['human']}{extension}\"\n",
    "    data[\"url\"] = url\n",
    "    data[\"local_path\"] = local_path\n",
    "    return data"
   ]
  },
  {
   "cell_type": "code",
   "execution_count": null,
   "metadata": {},
   "outputs": [],
   "source": [
    "parse_row(wikidata_data[\"results\"][\"bindings\"][0])"
   ]
  },
  {
   "cell_type": "code",
   "execution_count": null,
   "metadata": {},
   "outputs": [],
   "source": [
    "df = pd.DataFrame([parse_row(row) for row in wikidata_data[\"results\"][\"bindings\"]])\n",
    "df.head()"
   ]
  },
  {
   "cell_type": "markdown",
   "metadata": {},
   "source": [
    "# Gather images for all rows in `df`\n",
    "\n",
    "Put the required images for each wikidata id in `df` into the `OUTPUT_DIR` using the file name specified via the column `local_path`"
   ]
  },
  {
   "cell_type": "code",
   "execution_count": null,
   "metadata": {},
   "outputs": [],
   "source": [
    "OUTPUT_DIR = Path(data_dir / \"./images/\")\n",
    "OUTPUT_DIR.mkdir(parents=True, exist_ok=True)\n",
    "\n",
    "df[\"file_exists\"] = df[\"local_path\"].apply(lambda x: (OUTPUT_DIR / x).exists())\n",
    "df.file_exists.value_counts()"
   ]
  },
  {
   "cell_type": "code",
   "execution_count": null,
   "metadata": {},
   "outputs": [],
   "source": [
    "df.file_exists.value_counts()[False]"
   ]
  },
  {
   "cell_type": "markdown",
   "metadata": {},
   "source": [
    "## After putting all images in the folder run the next cell to update the dataframe with file status"
   ]
  },
  {
   "cell_type": "code",
   "execution_count": null,
   "metadata": {},
   "outputs": [],
   "source": [
    "df[\"file_exists\"] = df[\"local_path\"].apply(lambda x: (OUTPUT_DIR / x).exists())\n",
    "df.file_exists.value_counts()[False]"
   ]
  },
  {
   "cell_type": "code",
   "execution_count": null,
   "metadata": {},
   "outputs": [],
   "source": [
    "len(list(OUTPUT_DIR.glob(\"./*\")))"
   ]
  },
  {
   "cell_type": "code",
   "execution_count": null,
   "metadata": {},
   "outputs": [],
   "source": [
    "df.file_exists.value_counts()"
   ]
  },
  {
   "cell_type": "code",
   "execution_count": null,
   "metadata": {},
   "outputs": [],
   "source": [
    "df[\"ethnic_group\"].value_counts()"
   ]
  },
  {
   "cell_type": "code",
   "execution_count": null,
   "metadata": {},
   "outputs": [],
   "source": [
    "df.to_csv(data_dir / \"./dataset.tsv\", sep=\"\\t\", index=False)"
   ]
  },
  {
   "cell_type": "code",
   "execution_count": null,
   "metadata": {},
   "outputs": [],
   "source": []
  }
 ],
 "metadata": {
  "kernelspec": {
   "display_name": "Python 3",
   "language": "python",
   "name": "python3"
  },
  "language_info": {
   "codemirror_mode": {
    "name": "ipython",
    "version": 3
   },
   "file_extension": ".py",
   "mimetype": "text/x-python",
   "name": "python",
   "nbconvert_exporter": "python",
   "pygments_lexer": "ipython3",
   "version": "3.9.6"
  }
 },
 "nbformat": 4,
 "nbformat_minor": 4
}
